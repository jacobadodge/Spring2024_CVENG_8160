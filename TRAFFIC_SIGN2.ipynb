{
  "nbformat": 4,
  "nbformat_minor": 0,
  "metadata": {
    "colab": {
      "provenance": [],
      "include_colab_link": true
    },
    "kernelspec": {
      "name": "python3",
      "display_name": "Python 3"
    },
    "language_info": {
      "name": "python"
    }
  },
  "cells": [
    {
      "cell_type": "markdown",
      "metadata": {
        "id": "view-in-github",
        "colab_type": "text"
      },
      "source": [
        "<a href=\"https://colab.research.google.com/github/jacobadodge/Spring2024_CVENG_8160/blob/main/TRAFFIC_SIGN2.ipynb\" target=\"_parent\"><img src=\"https://colab.research.google.com/assets/colab-badge.svg\" alt=\"Open In Colab\"/></a>"
      ]
    },
    {
      "cell_type": "code",
      "source": [
        "# MOUNT DRIVE\n",
        "\n",
        "from google.colab import drive\n",
        "drive.mount('/content/drive')"
      ],
      "metadata": {
        "colab": {
          "base_uri": "https://localhost:8080/"
        },
        "id": "h5XVkLWGpC3Z",
        "outputId": "bc75bccc-ed04-41b4-d804-d97a451de7f9"
      },
      "execution_count": 1,
      "outputs": [
        {
          "output_type": "stream",
          "name": "stdout",
          "text": [
            "Drive already mounted at /content/drive; to attempt to forcibly remount, call drive.mount(\"/content/drive\", force_remount=True).\n"
          ]
        }
      ]
    },
    {
      "cell_type": "code",
      "execution_count": 2,
      "metadata": {
        "colab": {
          "base_uri": "https://localhost:8080/"
        },
        "id": "cW7kIlWhN_xk",
        "outputId": "7a2061aa-8240-4c27-b577-a5565f265d77"
      },
      "outputs": [
        {
          "output_type": "stream",
          "name": "stdout",
          "text": [
            "/content/drive/MyDrive/Masters/Semester 1/CVENG_8160_ADV_RES_METH_TRANS/module 05 introduction to neural networks\n"
          ]
        }
      ],
      "source": [
        "# CHAGNE DIRECTORY\n",
        "\n",
        "%cd '/content/drive/MyDrive/Masters/Semester 1/CVENG_8160_ADV_RES_METH_TRANS/module 05 introduction to neural networks'"
      ]
    },
    {
      "cell_type": "code",
      "source": [
        "# IMPORT NEEDED MODOULES\n",
        "\n",
        "import torch\n",
        "import torch.nn as nn\n",
        "import matplotlib.pyplot as plt\n",
        "from skimage import io, transform\n",
        "from tqdm import tqdm\n",
        "import os\n",
        "import pandas as pd\n",
        "import numpy as np\n",
        "from torch.utils.data import Dataset, DataLoader\n",
        "from torchvision import transforms, utils\n",
        "from pathlib import Path\n",
        "import warnings\n",
        "warnings.filterwarnings(\"ignore\")"
      ],
      "metadata": {
        "id": "NUkpuDB6kfYV"
      },
      "execution_count": 3,
      "outputs": []
    },
    {
      "cell_type": "code",
      "source": [
        "# CODE TO USE GPU IF DESIRED (CHANGE RUNTIME TYPE TO GPU)\n",
        "\n",
        "device = torch.device('cuda:0' if torch.cuda.is_available() else 'cpu')"
      ],
      "metadata": {
        "id": "kcP6pBzRp00W"
      },
      "execution_count": 4,
      "outputs": []
    },
    {
      "cell_type": "code",
      "source": [
        "# DATA LOADER\n",
        "\n",
        "class traffic_sign():\n",
        "    def __init__(self, root_dir ):\n",
        "\n",
        "        # initialize dataset variables here\n",
        "        # self.root = root_dir\n",
        "        self.root = Path(root_dir)\n",
        "\n",
        "        self.df = pd.DataFrame(columns = ['image_names','class_label']) # data frame with two columns: image name and class label\n",
        "\n",
        "        for fldr in self.root.iterdir():\n",
        "          img_names = []\n",
        "          if fldr.is_dir():\n",
        "            img_names = img_names + list(fldr.glob('*.ppm'))\n",
        "          df_cur = pd.DataFrame(img_names,columns = ['image_names'])\n",
        "          df_cur['class_label'] = fldr.name\n",
        "          self.df = pd.concat([self.df, df_cur],axis=0)\n",
        "\n",
        "        self.df = self.df.sample(frac=1)  # shuffling the data to get all classes\n",
        "        self.df = self.df.head(1000) # use 500 images\n",
        "\n",
        "        dummies = pd.get_dummies(data = self.df, columns = ['class_label']) # Each unique value in the 'class_label' column will\n",
        "        self.df = self.df.merge(dummies, on = 'image_names')                    # be transformed into a new binary column indicating\n",
        "        self.image_names = list(self.df['image_names'].values)                  # the presence or absence of that value.\n",
        "        self.class_label = self.df.iloc[:,2:].values.tolist() # 'class_label' is a list of the binary code of the image class\n",
        "                                                                  # for all rows (:) from columns index 2-end of data frame (2:)\n",
        "\n",
        "\n",
        "    def __len__(self):\n",
        "        # returns the length of the dataset\n",
        "        return len(self.image_names)\n",
        "\n",
        "    def __getitem__(self, idx):\n",
        "\n",
        "        # preprocess and transformations\n",
        "        # indexes the dataset such that dataset[i] can retrieve the ith sample.\n",
        "        image = self.image_names[idx]\n",
        "\n",
        "        image_data = io.imread(image)\n",
        "\n",
        "        label = torch.tensor(self.class_label[idx])\n",
        "\n",
        "        sample = {'image': image_data, 'label': label}\n",
        "        scale = Rescale((64,64))\n",
        "        sample = scale(sample)\n",
        "\n",
        "        return sample"
      ],
      "metadata": {
        "id": "YJCO-k8xkioF"
      },
      "execution_count": 23,
      "outputs": []
    },
    {
      "cell_type": "code",
      "source": [
        "# INSTANTIATE 'traffic_sign_dataset' FROM 'traffic_sign' CLASS\n",
        "\n",
        "traffic_sign_dataset = traffic_sign('/content/drive/MyDrive/Masters/Semester 1/CVENG_8160_ADV_RES_METH_TRANS/module 03 (PyTorch fundamentals and linear regression)')"
      ],
      "metadata": {
        "id": "RkSpM4hXlILQ"
      },
      "execution_count": 24,
      "outputs": []
    },
    {
      "cell_type": "code",
      "source": [
        "traffic_sign_dataset.df.head(10)"
      ],
      "metadata": {
        "colab": {
          "base_uri": "https://localhost:8080/",
          "height": 363
        },
        "id": "N0fKXKcR-UNG",
        "outputId": "6d2d3093-7911-4a21-d441-66971ccfb898"
      },
      "execution_count": 25,
      "outputs": [
        {
          "output_type": "execute_result",
          "data": {
            "text/plain": [
              "                                         image_names class_label  \\\n",
              "0  /content/drive/MyDrive/Masters/Semester 1/CVEN...       00031   \n",
              "1  /content/drive/MyDrive/Masters/Semester 1/CVEN...       00013   \n",
              "2  /content/drive/MyDrive/Masters/Semester 1/CVEN...       00029   \n",
              "3  /content/drive/MyDrive/Masters/Semester 1/CVEN...       00031   \n",
              "4  /content/drive/MyDrive/Masters/Semester 1/CVEN...       00040   \n",
              "5  /content/drive/MyDrive/Masters/Semester 1/CVEN...       00031   \n",
              "6  /content/drive/MyDrive/Masters/Semester 1/CVEN...       00040   \n",
              "7  /content/drive/MyDrive/Masters/Semester 1/CVEN...       00014   \n",
              "8  /content/drive/MyDrive/Masters/Semester 1/CVEN...       00013   \n",
              "9  /content/drive/MyDrive/Masters/Semester 1/CVEN...       00031   \n",
              "\n",
              "   class_label_00013  class_label_00014  class_label_00029  class_label_00031  \\\n",
              "0                  0                  0                  0                  1   \n",
              "1                  1                  0                  0                  0   \n",
              "2                  0                  0                  1                  0   \n",
              "3                  0                  0                  0                  1   \n",
              "4                  0                  0                  0                  0   \n",
              "5                  0                  0                  0                  1   \n",
              "6                  0                  0                  0                  0   \n",
              "7                  0                  1                  0                  0   \n",
              "8                  1                  0                  0                  0   \n",
              "9                  0                  0                  0                  1   \n",
              "\n",
              "   class_label_00034  class_label_00040  \n",
              "0                  0                  0  \n",
              "1                  0                  0  \n",
              "2                  0                  0  \n",
              "3                  0                  0  \n",
              "4                  0                  1  \n",
              "5                  0                  0  \n",
              "6                  0                  1  \n",
              "7                  0                  0  \n",
              "8                  0                  0  \n",
              "9                  0                  0  "
            ],
            "text/html": [
              "\n",
              "  <div id=\"df-245bd5bb-bd61-40e7-9152-b8c272e8109b\" class=\"colab-df-container\">\n",
              "    <div>\n",
              "<style scoped>\n",
              "    .dataframe tbody tr th:only-of-type {\n",
              "        vertical-align: middle;\n",
              "    }\n",
              "\n",
              "    .dataframe tbody tr th {\n",
              "        vertical-align: top;\n",
              "    }\n",
              "\n",
              "    .dataframe thead th {\n",
              "        text-align: right;\n",
              "    }\n",
              "</style>\n",
              "<table border=\"1\" class=\"dataframe\">\n",
              "  <thead>\n",
              "    <tr style=\"text-align: right;\">\n",
              "      <th></th>\n",
              "      <th>image_names</th>\n",
              "      <th>class_label</th>\n",
              "      <th>class_label_00013</th>\n",
              "      <th>class_label_00014</th>\n",
              "      <th>class_label_00029</th>\n",
              "      <th>class_label_00031</th>\n",
              "      <th>class_label_00034</th>\n",
              "      <th>class_label_00040</th>\n",
              "    </tr>\n",
              "  </thead>\n",
              "  <tbody>\n",
              "    <tr>\n",
              "      <th>0</th>\n",
              "      <td>/content/drive/MyDrive/Masters/Semester 1/CVEN...</td>\n",
              "      <td>00031</td>\n",
              "      <td>0</td>\n",
              "      <td>0</td>\n",
              "      <td>0</td>\n",
              "      <td>1</td>\n",
              "      <td>0</td>\n",
              "      <td>0</td>\n",
              "    </tr>\n",
              "    <tr>\n",
              "      <th>1</th>\n",
              "      <td>/content/drive/MyDrive/Masters/Semester 1/CVEN...</td>\n",
              "      <td>00013</td>\n",
              "      <td>1</td>\n",
              "      <td>0</td>\n",
              "      <td>0</td>\n",
              "      <td>0</td>\n",
              "      <td>0</td>\n",
              "      <td>0</td>\n",
              "    </tr>\n",
              "    <tr>\n",
              "      <th>2</th>\n",
              "      <td>/content/drive/MyDrive/Masters/Semester 1/CVEN...</td>\n",
              "      <td>00029</td>\n",
              "      <td>0</td>\n",
              "      <td>0</td>\n",
              "      <td>1</td>\n",
              "      <td>0</td>\n",
              "      <td>0</td>\n",
              "      <td>0</td>\n",
              "    </tr>\n",
              "    <tr>\n",
              "      <th>3</th>\n",
              "      <td>/content/drive/MyDrive/Masters/Semester 1/CVEN...</td>\n",
              "      <td>00031</td>\n",
              "      <td>0</td>\n",
              "      <td>0</td>\n",
              "      <td>0</td>\n",
              "      <td>1</td>\n",
              "      <td>0</td>\n",
              "      <td>0</td>\n",
              "    </tr>\n",
              "    <tr>\n",
              "      <th>4</th>\n",
              "      <td>/content/drive/MyDrive/Masters/Semester 1/CVEN...</td>\n",
              "      <td>00040</td>\n",
              "      <td>0</td>\n",
              "      <td>0</td>\n",
              "      <td>0</td>\n",
              "      <td>0</td>\n",
              "      <td>0</td>\n",
              "      <td>1</td>\n",
              "    </tr>\n",
              "    <tr>\n",
              "      <th>5</th>\n",
              "      <td>/content/drive/MyDrive/Masters/Semester 1/CVEN...</td>\n",
              "      <td>00031</td>\n",
              "      <td>0</td>\n",
              "      <td>0</td>\n",
              "      <td>0</td>\n",
              "      <td>1</td>\n",
              "      <td>0</td>\n",
              "      <td>0</td>\n",
              "    </tr>\n",
              "    <tr>\n",
              "      <th>6</th>\n",
              "      <td>/content/drive/MyDrive/Masters/Semester 1/CVEN...</td>\n",
              "      <td>00040</td>\n",
              "      <td>0</td>\n",
              "      <td>0</td>\n",
              "      <td>0</td>\n",
              "      <td>0</td>\n",
              "      <td>0</td>\n",
              "      <td>1</td>\n",
              "    </tr>\n",
              "    <tr>\n",
              "      <th>7</th>\n",
              "      <td>/content/drive/MyDrive/Masters/Semester 1/CVEN...</td>\n",
              "      <td>00014</td>\n",
              "      <td>0</td>\n",
              "      <td>1</td>\n",
              "      <td>0</td>\n",
              "      <td>0</td>\n",
              "      <td>0</td>\n",
              "      <td>0</td>\n",
              "    </tr>\n",
              "    <tr>\n",
              "      <th>8</th>\n",
              "      <td>/content/drive/MyDrive/Masters/Semester 1/CVEN...</td>\n",
              "      <td>00013</td>\n",
              "      <td>1</td>\n",
              "      <td>0</td>\n",
              "      <td>0</td>\n",
              "      <td>0</td>\n",
              "      <td>0</td>\n",
              "      <td>0</td>\n",
              "    </tr>\n",
              "    <tr>\n",
              "      <th>9</th>\n",
              "      <td>/content/drive/MyDrive/Masters/Semester 1/CVEN...</td>\n",
              "      <td>00031</td>\n",
              "      <td>0</td>\n",
              "      <td>0</td>\n",
              "      <td>0</td>\n",
              "      <td>1</td>\n",
              "      <td>0</td>\n",
              "      <td>0</td>\n",
              "    </tr>\n",
              "  </tbody>\n",
              "</table>\n",
              "</div>\n",
              "    <div class=\"colab-df-buttons\">\n",
              "\n",
              "  <div class=\"colab-df-container\">\n",
              "    <button class=\"colab-df-convert\" onclick=\"convertToInteractive('df-245bd5bb-bd61-40e7-9152-b8c272e8109b')\"\n",
              "            title=\"Convert this dataframe to an interactive table.\"\n",
              "            style=\"display:none;\">\n",
              "\n",
              "  <svg xmlns=\"http://www.w3.org/2000/svg\" height=\"24px\" viewBox=\"0 -960 960 960\">\n",
              "    <path d=\"M120-120v-720h720v720H120Zm60-500h600v-160H180v160Zm220 220h160v-160H400v160Zm0 220h160v-160H400v160ZM180-400h160v-160H180v160Zm440 0h160v-160H620v160ZM180-180h160v-160H180v160Zm440 0h160v-160H620v160Z\"/>\n",
              "  </svg>\n",
              "    </button>\n",
              "\n",
              "  <style>\n",
              "    .colab-df-container {\n",
              "      display:flex;\n",
              "      gap: 12px;\n",
              "    }\n",
              "\n",
              "    .colab-df-convert {\n",
              "      background-color: #E8F0FE;\n",
              "      border: none;\n",
              "      border-radius: 50%;\n",
              "      cursor: pointer;\n",
              "      display: none;\n",
              "      fill: #1967D2;\n",
              "      height: 32px;\n",
              "      padding: 0 0 0 0;\n",
              "      width: 32px;\n",
              "    }\n",
              "\n",
              "    .colab-df-convert:hover {\n",
              "      background-color: #E2EBFA;\n",
              "      box-shadow: 0px 1px 2px rgba(60, 64, 67, 0.3), 0px 1px 3px 1px rgba(60, 64, 67, 0.15);\n",
              "      fill: #174EA6;\n",
              "    }\n",
              "\n",
              "    .colab-df-buttons div {\n",
              "      margin-bottom: 4px;\n",
              "    }\n",
              "\n",
              "    [theme=dark] .colab-df-convert {\n",
              "      background-color: #3B4455;\n",
              "      fill: #D2E3FC;\n",
              "    }\n",
              "\n",
              "    [theme=dark] .colab-df-convert:hover {\n",
              "      background-color: #434B5C;\n",
              "      box-shadow: 0px 1px 3px 1px rgba(0, 0, 0, 0.15);\n",
              "      filter: drop-shadow(0px 1px 2px rgba(0, 0, 0, 0.3));\n",
              "      fill: #FFFFFF;\n",
              "    }\n",
              "  </style>\n",
              "\n",
              "    <script>\n",
              "      const buttonEl =\n",
              "        document.querySelector('#df-245bd5bb-bd61-40e7-9152-b8c272e8109b button.colab-df-convert');\n",
              "      buttonEl.style.display =\n",
              "        google.colab.kernel.accessAllowed ? 'block' : 'none';\n",
              "\n",
              "      async function convertToInteractive(key) {\n",
              "        const element = document.querySelector('#df-245bd5bb-bd61-40e7-9152-b8c272e8109b');\n",
              "        const dataTable =\n",
              "          await google.colab.kernel.invokeFunction('convertToInteractive',\n",
              "                                                    [key], {});\n",
              "        if (!dataTable) return;\n",
              "\n",
              "        const docLinkHtml = 'Like what you see? Visit the ' +\n",
              "          '<a target=\"_blank\" href=https://colab.research.google.com/notebooks/data_table.ipynb>data table notebook</a>'\n",
              "          + ' to learn more about interactive tables.';\n",
              "        element.innerHTML = '';\n",
              "        dataTable['output_type'] = 'display_data';\n",
              "        await google.colab.output.renderOutput(dataTable, element);\n",
              "        const docLink = document.createElement('div');\n",
              "        docLink.innerHTML = docLinkHtml;\n",
              "        element.appendChild(docLink);\n",
              "      }\n",
              "    </script>\n",
              "  </div>\n",
              "\n",
              "\n",
              "<div id=\"df-f77649aa-9c11-4b7c-ba21-fc6e11b9afea\">\n",
              "  <button class=\"colab-df-quickchart\" onclick=\"quickchart('df-f77649aa-9c11-4b7c-ba21-fc6e11b9afea')\"\n",
              "            title=\"Suggest charts\"\n",
              "            style=\"display:none;\">\n",
              "\n",
              "<svg xmlns=\"http://www.w3.org/2000/svg\" height=\"24px\"viewBox=\"0 0 24 24\"\n",
              "     width=\"24px\">\n",
              "    <g>\n",
              "        <path d=\"M19 3H5c-1.1 0-2 .9-2 2v14c0 1.1.9 2 2 2h14c1.1 0 2-.9 2-2V5c0-1.1-.9-2-2-2zM9 17H7v-7h2v7zm4 0h-2V7h2v10zm4 0h-2v-4h2v4z\"/>\n",
              "    </g>\n",
              "</svg>\n",
              "  </button>\n",
              "\n",
              "<style>\n",
              "  .colab-df-quickchart {\n",
              "      --bg-color: #E8F0FE;\n",
              "      --fill-color: #1967D2;\n",
              "      --hover-bg-color: #E2EBFA;\n",
              "      --hover-fill-color: #174EA6;\n",
              "      --disabled-fill-color: #AAA;\n",
              "      --disabled-bg-color: #DDD;\n",
              "  }\n",
              "\n",
              "  [theme=dark] .colab-df-quickchart {\n",
              "      --bg-color: #3B4455;\n",
              "      --fill-color: #D2E3FC;\n",
              "      --hover-bg-color: #434B5C;\n",
              "      --hover-fill-color: #FFFFFF;\n",
              "      --disabled-bg-color: #3B4455;\n",
              "      --disabled-fill-color: #666;\n",
              "  }\n",
              "\n",
              "  .colab-df-quickchart {\n",
              "    background-color: var(--bg-color);\n",
              "    border: none;\n",
              "    border-radius: 50%;\n",
              "    cursor: pointer;\n",
              "    display: none;\n",
              "    fill: var(--fill-color);\n",
              "    height: 32px;\n",
              "    padding: 0;\n",
              "    width: 32px;\n",
              "  }\n",
              "\n",
              "  .colab-df-quickchart:hover {\n",
              "    background-color: var(--hover-bg-color);\n",
              "    box-shadow: 0 1px 2px rgba(60, 64, 67, 0.3), 0 1px 3px 1px rgba(60, 64, 67, 0.15);\n",
              "    fill: var(--button-hover-fill-color);\n",
              "  }\n",
              "\n",
              "  .colab-df-quickchart-complete:disabled,\n",
              "  .colab-df-quickchart-complete:disabled:hover {\n",
              "    background-color: var(--disabled-bg-color);\n",
              "    fill: var(--disabled-fill-color);\n",
              "    box-shadow: none;\n",
              "  }\n",
              "\n",
              "  .colab-df-spinner {\n",
              "    border: 2px solid var(--fill-color);\n",
              "    border-color: transparent;\n",
              "    border-bottom-color: var(--fill-color);\n",
              "    animation:\n",
              "      spin 1s steps(1) infinite;\n",
              "  }\n",
              "\n",
              "  @keyframes spin {\n",
              "    0% {\n",
              "      border-color: transparent;\n",
              "      border-bottom-color: var(--fill-color);\n",
              "      border-left-color: var(--fill-color);\n",
              "    }\n",
              "    20% {\n",
              "      border-color: transparent;\n",
              "      border-left-color: var(--fill-color);\n",
              "      border-top-color: var(--fill-color);\n",
              "    }\n",
              "    30% {\n",
              "      border-color: transparent;\n",
              "      border-left-color: var(--fill-color);\n",
              "      border-top-color: var(--fill-color);\n",
              "      border-right-color: var(--fill-color);\n",
              "    }\n",
              "    40% {\n",
              "      border-color: transparent;\n",
              "      border-right-color: var(--fill-color);\n",
              "      border-top-color: var(--fill-color);\n",
              "    }\n",
              "    60% {\n",
              "      border-color: transparent;\n",
              "      border-right-color: var(--fill-color);\n",
              "    }\n",
              "    80% {\n",
              "      border-color: transparent;\n",
              "      border-right-color: var(--fill-color);\n",
              "      border-bottom-color: var(--fill-color);\n",
              "    }\n",
              "    90% {\n",
              "      border-color: transparent;\n",
              "      border-bottom-color: var(--fill-color);\n",
              "    }\n",
              "  }\n",
              "</style>\n",
              "\n",
              "  <script>\n",
              "    async function quickchart(key) {\n",
              "      const quickchartButtonEl =\n",
              "        document.querySelector('#' + key + ' button');\n",
              "      quickchartButtonEl.disabled = true;  // To prevent multiple clicks.\n",
              "      quickchartButtonEl.classList.add('colab-df-spinner');\n",
              "      try {\n",
              "        const charts = await google.colab.kernel.invokeFunction(\n",
              "            'suggestCharts', [key], {});\n",
              "      } catch (error) {\n",
              "        console.error('Error during call to suggestCharts:', error);\n",
              "      }\n",
              "      quickchartButtonEl.classList.remove('colab-df-spinner');\n",
              "      quickchartButtonEl.classList.add('colab-df-quickchart-complete');\n",
              "    }\n",
              "    (() => {\n",
              "      let quickchartButtonEl =\n",
              "        document.querySelector('#df-f77649aa-9c11-4b7c-ba21-fc6e11b9afea button');\n",
              "      quickchartButtonEl.style.display =\n",
              "        google.colab.kernel.accessAllowed ? 'block' : 'none';\n",
              "    })();\n",
              "  </script>\n",
              "</div>\n",
              "\n",
              "    </div>\n",
              "  </div>\n"
            ],
            "application/vnd.google.colaboratory.intrinsic+json": {
              "type": "dataframe",
              "summary": "{\n  \"name\": \"traffic_sign_dataset\",\n  \"rows\": 10,\n  \"fields\": [\n    {\n      \"column\": \"image_names\",\n      \"properties\": {\n        \"dtype\": \"string\",\n        \"num_unique_values\": 10,\n        \"samples\": [\n          \"/content/drive/MyDrive/Masters/Semester 1/CVENG_8160_ADV_RES_METH_TRANS/module 03 (PyTorch fundamentals and linear regression)/00013/00049_00011.ppm\",\n          \"/content/drive/MyDrive/Masters/Semester 1/CVENG_8160_ADV_RES_METH_TRANS/module 03 (PyTorch fundamentals and linear regression)/00013/00050_00008.ppm\",\n          \"/content/drive/MyDrive/Masters/Semester 1/CVENG_8160_ADV_RES_METH_TRANS/module 03 (PyTorch fundamentals and linear regression)/00031/00024_00019.ppm\"\n        ],\n        \"semantic_type\": \"\",\n        \"description\": \"\"\n      }\n    },\n    {\n      \"column\": \"class_label\",\n      \"properties\": {\n        \"dtype\": \"string\",\n        \"num_unique_values\": 5,\n        \"samples\": [\n          \"00013\",\n          \"00014\",\n          \"00029\"\n        ],\n        \"semantic_type\": \"\",\n        \"description\": \"\"\n      }\n    },\n    {\n      \"column\": \"class_label_00013\",\n      \"properties\": {\n        \"dtype\": \"uint8\",\n        \"num_unique_values\": 2,\n        \"samples\": [\n          1,\n          0\n        ],\n        \"semantic_type\": \"\",\n        \"description\": \"\"\n      }\n    },\n    {\n      \"column\": \"class_label_00014\",\n      \"properties\": {\n        \"dtype\": \"uint8\",\n        \"num_unique_values\": 2,\n        \"samples\": [\n          1,\n          0\n        ],\n        \"semantic_type\": \"\",\n        \"description\": \"\"\n      }\n    },\n    {\n      \"column\": \"class_label_00029\",\n      \"properties\": {\n        \"dtype\": \"uint8\",\n        \"num_unique_values\": 2,\n        \"samples\": [\n          1,\n          0\n        ],\n        \"semantic_type\": \"\",\n        \"description\": \"\"\n      }\n    },\n    {\n      \"column\": \"class_label_00031\",\n      \"properties\": {\n        \"dtype\": \"uint8\",\n        \"num_unique_values\": 2,\n        \"samples\": [\n          0,\n          1\n        ],\n        \"semantic_type\": \"\",\n        \"description\": \"\"\n      }\n    },\n    {\n      \"column\": \"class_label_00034\",\n      \"properties\": {\n        \"dtype\": \"uint8\",\n        \"num_unique_values\": 1,\n        \"samples\": [\n          0\n        ],\n        \"semantic_type\": \"\",\n        \"description\": \"\"\n      }\n    },\n    {\n      \"column\": \"class_label_00040\",\n      \"properties\": {\n        \"dtype\": \"uint8\",\n        \"num_unique_values\": 2,\n        \"samples\": [\n          1\n        ],\n        \"semantic_type\": \"\",\n        \"description\": \"\"\n      }\n    }\n  ]\n}"
            }
          },
          "metadata": {},
          "execution_count": 25
        }
      ]
    },
    {
      "cell_type": "code",
      "source": [
        "# CLASS TO RESCALE IMAGES\n",
        "\n",
        "class Rescale():\n",
        "\n",
        "    def __init__(self, output_size):\n",
        "        assert isinstance(output_size, (int, tuple))\n",
        "        self.output_size = output_size\n",
        "\n",
        "    def __call__(self, sample):\n",
        "        image, labels = sample['image'], sample['label']\n",
        "\n",
        "        h, w = image.shape[:2]\n",
        "\n",
        "        if isinstance(self.output_size, int):\n",
        "            if h > w:\n",
        "                new_h, new_w = self.output_size * h / w, self.output_size\n",
        "            else:\n",
        "                new_h, new_w = self.output_size, self.output_size * w / h\n",
        "        else:\n",
        "            new_h, new_w = self.output_size\n",
        "\n",
        "        new_h, new_w = int(new_h), int(new_w)\n",
        "\n",
        "        img = transform.resize(image, (new_h, new_w))\n",
        "\n",
        "        return {'image': img, 'label': labels}"
      ],
      "metadata": {
        "id": "zcYKE-g8mTwK"
      },
      "execution_count": 26,
      "outputs": []
    },
    {
      "cell_type": "code",
      "source": [
        "for i, sample in enumerate(traffic_sign_dataset):\n",
        "  print(i, sample['image'].shape, sample['label'])\n",
        "  if i == 10:\n",
        "    break"
      ],
      "metadata": {
        "colab": {
          "base_uri": "https://localhost:8080/"
        },
        "id": "8zyuY8Yy5qE6",
        "outputId": "83174303-9a95-47c6-cd8d-72779b968b46"
      },
      "execution_count": 27,
      "outputs": [
        {
          "output_type": "stream",
          "name": "stdout",
          "text": [
            "0 (64, 64, 3) tensor([0, 0, 0, 1, 0, 0])\n",
            "1 (64, 64, 3) tensor([1, 0, 0, 0, 0, 0])\n",
            "2 (64, 64, 3) tensor([0, 0, 1, 0, 0, 0])\n",
            "3 (64, 64, 3) tensor([0, 0, 0, 1, 0, 0])\n",
            "4 (64, 64, 3) tensor([0, 0, 0, 0, 0, 1])\n",
            "5 (64, 64, 3) tensor([0, 0, 0, 1, 0, 0])\n",
            "6 (64, 64, 3) tensor([0, 0, 0, 0, 0, 1])\n",
            "7 (64, 64, 3) tensor([0, 1, 0, 0, 0, 0])\n",
            "8 (64, 64, 3) tensor([1, 0, 0, 0, 0, 0])\n",
            "9 (64, 64, 3) tensor([0, 0, 0, 1, 0, 0])\n",
            "10 (64, 64, 3) tensor([0, 1, 0, 0, 0, 0])\n"
          ]
        }
      ]
    },
    {
      "cell_type": "code",
      "source": [
        "# CLASS TO TRANSFORM IMAGE DATA TO TENSOR\n",
        "\n",
        "class ToTensor():\n",
        "    def __call__(self, sample):\n",
        "        input, output = sample['image'], sample['label']\n",
        "\n",
        "        return {'image': torch.tensor(np.array(input),dtype=torch.float32).reshape(16,-1),\n",
        "                'label': torch.tensor(output,dtype=torch.float32).reshape(16,-1)}"
      ],
      "metadata": {
        "id": "_MuT6zJiov8i"
      },
      "execution_count": 28,
      "outputs": []
    },
    {
      "cell_type": "code",
      "source": [
        "# CREATE THE MODEL (NEURAL NETWORK)\n",
        "\n",
        "model = nn.Sequential(\n",
        "        nn.Linear(12288, 256),\n",
        "        nn.ReLU(),\n",
        "        nn.Linear(256, 128),\n",
        "        nn.ReLU(),\n",
        "        nn.Linear(128, 64),\n",
        "        nn.ReLU(),\n",
        "        nn.Linear(64, 6),  # 7 output classes\n",
        "        nn.Softmax()  # compute softmax, activation function, probability of being in each class\n",
        "        )\n",
        "model.to(device)"
      ],
      "metadata": {
        "id": "pOkMxsRiqYVX",
        "colab": {
          "base_uri": "https://localhost:8080/"
        },
        "outputId": "f3b77bc1-a6b5-4179-d446-7fd5d2f0476c"
      },
      "execution_count": 29,
      "outputs": [
        {
          "output_type": "execute_result",
          "data": {
            "text/plain": [
              "Sequential(\n",
              "  (0): Linear(in_features=12288, out_features=256, bias=True)\n",
              "  (1): ReLU()\n",
              "  (2): Linear(in_features=256, out_features=128, bias=True)\n",
              "  (3): ReLU()\n",
              "  (4): Linear(in_features=128, out_features=64, bias=True)\n",
              "  (5): ReLU()\n",
              "  (6): Linear(in_features=64, out_features=6, bias=True)\n",
              "  (7): Softmax(dim=None)\n",
              ")"
            ]
          },
          "metadata": {},
          "execution_count": 29
        }
      ]
    },
    {
      "cell_type": "code",
      "source": [
        "# DEFINE THE BATCH SIZE AND CREATE THE DATA LOADER\n",
        "\n",
        "bs = 16\n",
        "dataloader = DataLoader(traffic_sign_dataset, batch_size=bs, shuffle=True, num_workers=12,drop_last=True)\n"
      ],
      "metadata": {
        "id": "KeZ025WOsHbz"
      },
      "execution_count": 30,
      "outputs": []
    },
    {
      "cell_type": "code",
      "source": [
        "# ts = ToTensor()\n",
        "# for i, sample in enumerate(dataloader):\n",
        "#   # print (sample['image'].size())\n",
        "#   sample = ts(sample)\n",
        "#   print (sample['image'].size(), sample['label'].size())\n",
        "#   if i == 2:\n",
        "#     break"
      ],
      "metadata": {
        "id": "UiIJLQXSsgW0"
      },
      "execution_count": 31,
      "outputs": []
    },
    {
      "cell_type": "code",
      "source": [
        "# DEFINE THE CRITERION (LOSS) AND OPTIMIZER\n",
        "\n",
        "criterion = nn.CrossEntropyLoss()\n",
        "optimizer = torch.optim.Adam(model.parameters(), lr=0.001)"
      ],
      "metadata": {
        "id": "7KDt24KlubHP"
      },
      "execution_count": 32,
      "outputs": []
    },
    {
      "cell_type": "code",
      "source": [
        "# TRIAN THE MODEL\n",
        "accuracyLst = []\n",
        "mean_loss = []\n",
        "losses = []\n",
        "test_losses = []\n",
        "mean_test_loss = []\n",
        "ts = ToTensor()\n",
        "n_epochs = 10\n",
        "for it in tqdm(range(n_epochs)):\n",
        "  # zero the parameter gradients\n",
        "  for i_batch, sample_batched in enumerate(dataloader):\n",
        "    optimizer.zero_grad()\n",
        "    sample_batched = ts(sample_batched)\n",
        "    outputs = model(sample_batched['image'].to(device))\n",
        "    loss = criterion(outputs, sample_batched['label'].to(device))\n",
        "    losses.append(loss.item())\n",
        "\n",
        "    accuracy = np.argmax(outputs.detach()) == np.argmax(sample_batched['label'].detach())\n",
        "    if accuracy == True:\n",
        "      accuracyLst.append(1)\n",
        "    else:\n",
        "      accuracyLst.append(0)\n",
        "\n",
        "    loss.backward()\n",
        "    optimizer.step()\n",
        "  mean_loss.append(np.mean(losses))\n",
        "  print(f'Epoch {it+1}/{n_epochs}, Training Loss: {np.mean(losses):.4f}')\n"
      ],
      "metadata": {
        "colab": {
          "base_uri": "https://localhost:8080/"
        },
        "id": "LZN9emwuvAbN",
        "outputId": "9bddc117-05a1-4c83-c660-6ef862598d8c"
      },
      "execution_count": 33,
      "outputs": [
        {
          "output_type": "stream",
          "name": "stderr",
          "text": [
            " 10%|█         | 1/10 [00:11<01:46, 11.79s/it]"
          ]
        },
        {
          "output_type": "stream",
          "name": "stdout",
          "text": [
            "Epoch 1/10, Training Loss: 1.6393\n"
          ]
        },
        {
          "output_type": "stream",
          "name": "stderr",
          "text": [
            "\r 20%|██        | 2/10 [00:18<01:09,  8.75s/it]"
          ]
        },
        {
          "output_type": "stream",
          "name": "stdout",
          "text": [
            "Epoch 2/10, Training Loss: 1.6197\n"
          ]
        },
        {
          "output_type": "stream",
          "name": "stderr",
          "text": [
            "\r 30%|███       | 3/10 [00:23<00:50,  7.26s/it]"
          ]
        },
        {
          "output_type": "stream",
          "name": "stdout",
          "text": [
            "Epoch 3/10, Training Loss: 1.5445\n"
          ]
        },
        {
          "output_type": "stream",
          "name": "stderr",
          "text": [
            "\r 40%|████      | 4/10 [00:30<00:42,  7.10s/it]"
          ]
        },
        {
          "output_type": "stream",
          "name": "stdout",
          "text": [
            "Epoch 4/10, Training Loss: 1.4953\n"
          ]
        },
        {
          "output_type": "stream",
          "name": "stderr",
          "text": [
            "\r 50%|█████     | 5/10 [00:36<00:32,  6.47s/it]"
          ]
        },
        {
          "output_type": "stream",
          "name": "stdout",
          "text": [
            "Epoch 5/10, Training Loss: 1.4663\n"
          ]
        },
        {
          "output_type": "stream",
          "name": "stderr",
          "text": [
            "\r 60%|██████    | 6/10 [00:42<00:25,  6.48s/it]"
          ]
        },
        {
          "output_type": "stream",
          "name": "stdout",
          "text": [
            "Epoch 6/10, Training Loss: 1.4492\n"
          ]
        },
        {
          "output_type": "stream",
          "name": "stderr",
          "text": [
            "\r 70%|███████   | 7/10 [00:48<00:18,  6.17s/it]"
          ]
        },
        {
          "output_type": "stream",
          "name": "stdout",
          "text": [
            "Epoch 7/10, Training Loss: 1.4321\n"
          ]
        },
        {
          "output_type": "stream",
          "name": "stderr",
          "text": [
            "\r 80%|████████  | 8/10 [00:54<00:12,  6.34s/it]"
          ]
        },
        {
          "output_type": "stream",
          "name": "stdout",
          "text": [
            "Epoch 8/10, Training Loss: 1.4318\n"
          ]
        },
        {
          "output_type": "stream",
          "name": "stderr",
          "text": [
            "\r 90%|█████████ | 9/10 [01:00<00:06,  6.14s/it]"
          ]
        },
        {
          "output_type": "stream",
          "name": "stdout",
          "text": [
            "Epoch 9/10, Training Loss: 1.4313\n"
          ]
        },
        {
          "output_type": "stream",
          "name": "stderr",
          "text": [
            "100%|██████████| 10/10 [01:07<00:00,  6.70s/it]"
          ]
        },
        {
          "output_type": "stream",
          "name": "stdout",
          "text": [
            "Epoch 10/10, Training Loss: 1.4223\n"
          ]
        },
        {
          "output_type": "stream",
          "name": "stderr",
          "text": [
            "\n"
          ]
        }
      ]
    },
    {
      "cell_type": "code",
      "source": [
        "print('The accuracy of the model is', np.mean(accuracyLst) * 100, '%')"
      ],
      "metadata": {
        "id": "9QzeNWjXcPsT",
        "colab": {
          "base_uri": "https://localhost:8080/"
        },
        "outputId": "b1ccc550-97b2-4003-8259-21087bae3df7"
      },
      "execution_count": 34,
      "outputs": [
        {
          "output_type": "stream",
          "name": "stdout",
          "text": [
            "The accuracy of the model is 31.290322580645164 %\n"
          ]
        }
      ]
    },
    {
      "cell_type": "code",
      "source": [
        "# LIST TO TRACK ALL LOSSES\n",
        "\n",
        "totMeanLoss = []"
      ],
      "metadata": {
        "id": "PBK40q68IpLe"
      },
      "execution_count": 35,
      "outputs": []
    },
    {
      "cell_type": "code",
      "source": [
        "# APPEND ALL LOSSES TO 'totMeanLoss' AND PLOT MOST RECENT TRAINING LOSSS\n",
        "\n",
        "for item in mean_loss:\n",
        "  totMeanLoss.append(item)\n",
        "plt.plot(mean_loss)"
      ],
      "metadata": {
        "id": "choF39d-5shR",
        "colab": {
          "base_uri": "https://localhost:8080/",
          "height": 452
        },
        "outputId": "d124cd4c-623e-488b-cb48-08a883bb3705"
      },
      "execution_count": 36,
      "outputs": [
        {
          "output_type": "execute_result",
          "data": {
            "text/plain": [
              "[<matplotlib.lines.Line2D at 0x7b3f8d028880>]"
            ]
          },
          "metadata": {},
          "execution_count": 36
        },
        {
          "output_type": "display_data",
          "data": {
            "text/plain": [
              "<Figure size 640x480 with 1 Axes>"
            ],
            "image/png": "[encoded data removed]"
          },
          "metadata": {}
        }
      ]
    },
    {
      "cell_type": "code",
      "source": [
        "# PLOT ALL LOSSES\n",
        "\n",
        "plt.plot(totMeanLoss)"
      ],
      "metadata": {
        "id": "ObEFKALYKW68",
        "colab": {
          "base_uri": "https://localhost:8080/",
          "height": 452
        },
        "outputId": "f54c2b32-62fc-4fae-a994-71c0e30e0c67"
      },
      "execution_count": 37,
      "outputs": [
        {
          "output_type": "execute_result",
          "data": {
            "text/plain": [
              "[<matplotlib.lines.Line2D at 0x7b3f8d06d150>]"
            ]
          },
          "metadata": {},
          "execution_count": 37
        },
        {
          "output_type": "display_data",
          "data": {
            "text/plain": [
              "<Figure size 640x480 with 1 Axes>"
            ],
            "image/png": "[encoded data removed]"
          },
          "metadata": {}
        }
      ]
    },
    {
      "cell_type": "code",
      "source": [
        "# SAVE THE MODEL (TO YOUR CURRENT DIRECTORY)\n",
        "\n",
        "torch.save(model.state_dict(), 'traffic_model_2.pt')"
      ],
      "metadata": {
        "id": "xA9CwfDfAmX1"
      },
      "execution_count": 38,
      "outputs": []
    },
    {
      "cell_type": "code",
      "source": [
        "## load saved model\n",
        "model_arch = nn.Sequential(\n",
        "        nn.Linear(12288, 256),\n",
        "        nn.ReLU(),\n",
        "        nn.Linear(256, 128),\n",
        "        nn.ReLU(),\n",
        "        nn.Linear(128, 64),\n",
        "        nn.ReLU(),\n",
        "        nn.Linear(64, 6)\n",
        "        )\n",
        "model_arch.load_state_dict(torch.load('traffic_model_2.pt'))\n",
        "model_arch.eval()"
      ],
      "metadata": {
        "id": "YWsGGNSXAsbj",
        "colab": {
          "base_uri": "https://localhost:8080/"
        },
        "outputId": "860b9ce7-e45f-4dba-facf-7f66d97881ea"
      },
      "execution_count": 39,
      "outputs": [
        {
          "output_type": "execute_result",
          "data": {
            "text/plain": [
              "Sequential(\n",
              "  (0): Linear(in_features=12288, out_features=256, bias=True)\n",
              "  (1): ReLU()\n",
              "  (2): Linear(in_features=256, out_features=128, bias=True)\n",
              "  (3): ReLU()\n",
              "  (4): Linear(in_features=128, out_features=64, bias=True)\n",
              "  (5): ReLU()\n",
              "  (6): Linear(in_features=64, out_features=6, bias=True)\n",
              ")"
            ]
          },
          "metadata": {},
          "execution_count": 39
        }
      ]
    }
  ]
}