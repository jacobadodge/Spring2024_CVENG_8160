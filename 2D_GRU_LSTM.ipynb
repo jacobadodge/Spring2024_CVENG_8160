{
  "cells": [
    {
      "cell_type": "markdown",
      "metadata": {
        "id": "view-in-github",
        "colab_type": "text"
      },
      "source": [
        "<a href=\"https://colab.research.google.com/github/jacobadodge/Spring2024_CVENG_8160/blob/main/2D_GRU_LSTM.ipynb\" target=\"_parent\"><img src=\"https://colab.research.google.com/assets/colab-badge.svg\" alt=\"Open In Colab\"/></a>"
      ]
    },
    {
      "cell_type": "code",
      "source": [
        "# MOUNT DRIVE\n",
        "\n",
        "from google.colab import drive\n",
        "drive.mount('/content/drive')"
      ],
      "metadata": {
        "colab": {
          "base_uri": "https://localhost:8080/"
        },
        "id": "JGtWoIT42HIO",
        "outputId": "de419636-7a89-40b2-dfe1-fff217147fb7"
      },
      "execution_count": null,
      "outputs": [
        {
          "output_type": "stream",
          "name": "stdout",
          "text": [
            "Mounted at /content/drive\n"
          ]
        }
      ]
    },
    {
      "cell_type": "code",
      "source": [
        "# CHAGNE DIRECTORY\n",
        "\n",
        "%cd '/content/drive/MyDrive/Masters/Semester 1/CVENG_8160_ADV_RES_METH_TRANS/module 06 (time series forecasting)'"
      ],
      "metadata": {
        "colab": {
          "base_uri": "https://localhost:8080/"
        },
        "id": "cOBNw1No2Hkq",
        "outputId": "31eb63fa-5b7b-4b76-fc49-1160aba15bdd"
      },
      "execution_count": null,
      "outputs": [
        {
          "output_type": "stream",
          "name": "stdout",
          "text": [
            "/content/drive/MyDrive/Masters/Semester 1/CVENG_8160_ADV_RES_METH_TRANS/module 06 (time series forecasting)\n"
          ]
        }
      ]
    },
    {
      "cell_type": "code",
      "execution_count": null,
      "metadata": {
        "id": "cxpZnJYq2AII"
      },
      "outputs": [],
      "source": [
        "# IMPORT NEEDED MODULES\n",
        "\n",
        "import pandas as pd\n",
        "import random, math\n",
        "import torch\n",
        "import torch.nn as nn\n",
        "import numpy as np\n",
        "import matplotlib.pyplot as plt\n",
        "from sklearn.preprocessing import StandardScaler\n",
        "from scipy import fftpack\n",
        "import torch.utils.data as utils\n",
        "import os\n",
        "from sklearn.metrics import mean_absolute_percentage_error\n",
        "from torch.utils.data import Dataset, DataLoader\n",
        "from tqdm import tqdm"
      ]
    },
    {
      "cell_type": "code",
      "execution_count": null,
      "metadata": {
        "id": "9V6DYiXK2AIL",
        "colab": {
          "base_uri": "https://localhost:8080/"
        },
        "outputId": "1a13f2df-c620-4187-955b-866b2d0b1b5b"
      },
      "outputs": [
        {
          "output_type": "stream",
          "name": "stdout",
          "text": [
            "Downloading...\n",
            "From: https://drive.google.com/uc?id=1E_qqe7kfvfApM4hCOBMPoXhyEPyrUJkN\n",
            "To: /content/drive/MyDrive/Masters/Semester 1/CVENG_8160_ADV_RES_METH_TRANS/module 06 (time series forecasting)/train.zip\n",
            "100% 8.67M/8.67M [00:00<00:00, 20.4MB/s]\n",
            "Downloading...\n",
            "From: https://drive.google.com/uc?id=1j-3-lHegY--FDHKZvz86HBtilV2dsP-i\n",
            "To: /content/drive/MyDrive/Masters/Semester 1/CVENG_8160_ADV_RES_METH_TRANS/module 06 (time series forecasting)/test.zip\n",
            "100% 459k/459k [00:00<00:00, 89.1MB/s]\n"
          ]
        }
      ],
      "source": [
        "# Already downloaded data, no need to run again\n",
        "\n",
        "# !gdown 'https://drive.google.com/uc?id=1E_qqe7kfvfApM4hCOBMPoXhyEPyrUJkN'\n",
        "# !gdown 'https://drive.google.com/uc?id=1j-3-lHegY--FDHKZvz86HBtilV2dsP-i'"
      ]
    },
    {
      "cell_type": "code",
      "execution_count": null,
      "metadata": {
        "id": "BjXu7qqq2AIL",
        "colab": {
          "base_uri": "https://localhost:8080/"
        },
        "outputId": "390bf28d-dc52-4a68-9923-6ec45a784900"
      },
      "outputs": [
        {
          "output_type": "stream",
          "name": "stdout",
          "text": [
            "Archive:  train.zip\n",
            "  inflating: ./tps_df.pkl            \n",
            "  inflating: ./__MACOSX/._tps_df.pkl  \n",
            "Archive:  test.zip\n",
            "  inflating: ./test_data/tps_5.pkl   \n",
            "  inflating: ./test_data/tps_2.pkl   \n",
            "  inflating: ./test_data/tps_6.pkl   \n",
            "  inflating: ./test_data/tps_4.pkl   \n",
            "  inflating: ./test_data/tps_15.pkl  \n",
            "  inflating: ./test_data/tps_7.pkl   \n",
            "  inflating: ./test_data/tps_1.pkl   \n",
            "  inflating: ./test_data/tps_12.pkl  \n",
            "  inflating: ./test_data/tps_8.pkl   \n",
            "  inflating: ./test_data/tps_3.pkl   \n",
            "  inflating: ./test_data/tps_9.pkl   \n",
            "  inflating: ./test_data/tps_13.pkl  \n",
            "  inflating: ./test_data/tps_11.pkl  \n",
            "  inflating: ./test_data/tps_10.pkl  \n",
            "  inflating: ./test_data/tps_14.pkl  \n"
          ]
        }
      ],
      "source": [
        "# Already unzipped data, no need to run again\n",
        "\n",
        "# !unzip 'train.zip' -d '.'\n",
        "# !unzip 'test.zip' -d '.'"
      ]
    },
    {
      "cell_type": "code",
      "source": [
        "# SPLIT DATA INTO TEST AND TRAIN\n",
        "\n",
        "df = pd.read_pickle('tps_df.pkl')\n",
        "test = .2\n",
        "df_len = df.shape[0]\n",
        "df_train, df_test = df.iloc[0:df_len - int(test*df_len)], df.iloc[df_len - int(test*df_len):]\n",
        "df_train.to_csv('data/train2.csv', index = False)  # save training data as 'train.csv' in 'data' folder\n",
        "df_test.to_csv('data/test2.csv', index = False)  # save testing data as 'test.csv' in 'data' folder\n",
        "df_train.shape, df_test.shape"
      ],
      "metadata": {
        "colab": {
          "base_uri": "https://localhost:8080/"
        },
        "id": "3zZLGsGGTX69",
        "outputId": "5cca5e7f-e7f4-470b-97d9-76f54ee28296"
      },
      "execution_count": null,
      "outputs": [
        {
          "output_type": "execute_result",
          "data": {
            "text/plain": [
              "((1012750, 8), (253187, 8))"
            ]
          },
          "metadata": {},
          "execution_count": 4
        }
      ]
    },
    {
      "cell_type": "code",
      "execution_count": null,
      "metadata": {
        "id": "pU-CRB7r2AIL"
      },
      "outputs": [],
      "source": [
        "class TrafficForecast():\n",
        "    def __init__(self,csv_path, window, horizon):\n",
        "        self.csv_path = csv_path\n",
        "        self.window = window\n",
        "        self.horizon = horizon\n",
        "        self.df = None\n",
        "        self.seg_ids = None\n",
        "        self.inputs = []\n",
        "        self.targets = []\n",
        "\n",
        "\n",
        "        df = pd.read_csv(self.csv_path)\n",
        "        df['time'] = pd.to_datetime(df['time'])\n",
        "        df['unix_timestamp'] = df['time'].astype(int) / 10**9\n",
        "        df['dow'] = df['time'].dt.weekday\n",
        "        df['hour'] = df['time'].dt.hour\n",
        "        df['min'] = df['time'].dt.minute\n",
        "        self.df = df.sample(frac=1).reset_index(drop=True)\n",
        "        self.seg_ids = self.df['segmentID'].unique()\n",
        "        self.setup_forecast() # call 'setup_forecast()' function\n",
        "\n",
        "    def setup_forecast(self):\n",
        "        for segid in self.seg_ids:\n",
        "            df_seg_id = self.df[self.df['segmentID'] == segid]\n",
        "            df_seg_id = df_seg_id.sort_values(by='time',ascending=True)\n",
        "            df_seg_id = df_seg_id.fillna(method=\"ffill\")\n",
        "            TI_series = df_seg_id['TrafficIndex_GP'].values\n",
        "            h_series = df_seg_id['hour'].values # get data from 'hour' column like 'TrafficIndex_GP'\n",
        "            for t in range(0,len(TI_series)-(self.window+self.horizon)):\n",
        "                x = TI_series[t:t+self.window]\n",
        "                h = h_series[t:t+self.window]\n",
        "                y = TI_series[t+self.window:(t+self.window+self.horizon)]\n",
        "                x_cat = np.dstack([x,h])\n",
        "                # print(x_cat.shape)\n",
        "                self.inputs.append(x_cat)\n",
        "                self.targets.append(y)\n",
        "\n",
        "    def __len__(self):\n",
        "        return len(self.inputs)\n",
        "\n",
        "\n",
        "    def __getitem__(self,idx):\n",
        "        X = torch.tensor(self.inputs[idx],dtype=torch.float32).reshape(self.window, 2)\n",
        "        y=torch.tensor(self.targets[idx],dtype=torch.float32)\n",
        "\n",
        "        return {'inputs':X,'outputs':y}\n"
      ]
    },
    {
      "cell_type": "code",
      "execution_count": null,
      "metadata": {
        "id": "sxJyEqWV2AIM"
      },
      "outputs": [],
      "source": [
        "# CREATE OBJECT FOR TRIANING AND TESTING\n",
        "\n",
        "tobj_train = TrafficForecast('/content/drive/MyDrive/Masters/Semester 1/CVENG_8160_ADV_RES_METH_TRANS/module 06 (time series forecasting)/data/train2.csv',36,36)\n",
        "tobj_test = TrafficForecast('/content/drive/MyDrive/Masters/Semester 1/CVENG_8160_ADV_RES_METH_TRANS/module 06 (time series forecasting)/data/test2.csv',36,36)"
      ]
    },
    {
      "cell_type": "code",
      "execution_count": null,
      "metadata": {
        "colab": {
          "base_uri": "https://localhost:8080/"
        },
        "id": "eenPHI_r2AIM",
        "outputId": "496beb8a-f937-4b26-d278-0e84730e1869"
      },
      "outputs": [
        {
          "output_type": "stream",
          "name": "stderr",
          "text": [
            "/usr/local/lib/python3.10/dist-packages/torch/utils/data/dataloader.py:557: UserWarning: This DataLoader will create 4 worker processes in total. Our suggested max number of worker in current system is 2, which is smaller than what this DataLoader is going to create. Please be aware that excessive worker creation might get DataLoader running slow or even freeze, lower the worker number to avoid potential slowness/freeze if necessary.\n",
            "  warnings.warn(_create_warning_msg(\n"
          ]
        }
      ],
      "source": [
        "bs = 1024\n",
        "dataloader_train = DataLoader(tobj_train, batch_size=bs, shuffle=False, num_workers=4,drop_last=True)\n",
        "dataloader_test = DataLoader(tobj_test, batch_size=bs, shuffle=False, num_workers=4,drop_last=True)"
      ]
    },
    {
      "cell_type": "code",
      "source": [
        "# n x t x d --> 3x3x1 (batch size, window, depth)\n",
        "# TI = [1,2,3,4,5,6,7,8,9]\n",
        "# sample1: [1,2,3]-->[4,5,6]\n",
        "# sample2: [2,3,5]-->[5,6,7]\n",
        "# sample3: [3,4,5]-->[6,7,8]"
      ],
      "metadata": {
        "id": "wdoLgkOXBwM9"
      },
      "execution_count": null,
      "outputs": []
    },
    {
      "cell_type": "code",
      "execution_count": null,
      "metadata": {
        "colab": {
          "base_uri": "https://localhost:8080/"
        },
        "id": "6CKli3gm2AIN",
        "outputId": "ac62a23b-c345-4689-cd9e-c19f7c313dd9"
      },
      "outputs": [
        {
          "output_type": "stream",
          "name": "stderr",
          "text": [
            "/usr/local/lib/python3.10/dist-packages/torch/utils/data/dataloader.py:557: UserWarning: This DataLoader will create 4 worker processes in total. Our suggested max number of worker in current system is 2, which is smaller than what this DataLoader is going to create. Please be aware that excessive worker creation might get DataLoader running slow or even freeze, lower the worker number to avoid potential slowness/freeze if necessary.\n",
            "  warnings.warn(_create_warning_msg(\n"
          ]
        },
        {
          "output_type": "stream",
          "name": "stdout",
          "text": [
            "torch.Size([1024, 36, 2]) torch.Size([1024, 36])\n",
            "torch.Size([1024, 36, 2]) torch.Size([1024, 36])\n",
            "torch.Size([1024, 36, 2]) torch.Size([1024, 36])\n",
            "torch.Size([1024, 36, 2]) torch.Size([1024, 36])\n",
            "torch.Size([1024, 36, 2]) torch.Size([1024, 36])\n",
            "torch.Size([1024, 36, 2]) torch.Size([1024, 36])\n",
            "torch.Size([1024, 36, 2]) torch.Size([1024, 36])\n",
            "torch.Size([1024, 36, 2]) torch.Size([1024, 36])\n",
            "torch.Size([1024, 36, 2]) torch.Size([1024, 36])\n",
            "torch.Size([1024, 36, 2]) torch.Size([1024, 36])\n",
            "torch.Size([1024, 36, 2]) torch.Size([1024, 36])\n",
            "torch.Size([1024, 36, 2]) torch.Size([1024, 36])\n"
          ]
        }
      ],
      "source": [
        "# VIEW SHAPE OF TESTING AND TRAINING DATA\n",
        "\n",
        "for idx, data in enumerate(dataloader_train):\n",
        "    print (data['inputs'].shape,data['outputs'].shape)\n",
        "    if idx == 5:\n",
        "      break\n",
        "for idx, data in enumerate(dataloader_test):\n",
        "    print (data['inputs'].shape,data['outputs'].shape)\n",
        "    if idx == 5:\n",
        "      break"
      ]
    },
    {
      "cell_type": "code",
      "source": [
        "# torch.Size([1024, 36, 1]) --> n x t x d --> 1024 x 36 x 1 --> batch size = 1024; window = 36; depth = 1"
      ],
      "metadata": {
        "id": "fypteqpmCyBf"
      },
      "execution_count": null,
      "outputs": []
    },
    {
      "cell_type": "code",
      "execution_count": null,
      "metadata": {
        "id": "sKqFnomW2AIN"
      },
      "outputs": [],
      "source": [
        "# USE GPU IF AVAILABLE\n",
        "\n",
        "device = torch.device(\"cuda:0\" if torch.cuda.is_available() else \"cpu\")"
      ]
    },
    {
      "cell_type": "code",
      "execution_count": null,
      "metadata": {
        "id": "WuWmwI3h2AIN"
      },
      "outputs": [],
      "source": [
        "from models import MyLSTM, MyGRU"
      ]
    },
    {
      "cell_type": "code",
      "execution_count": null,
      "metadata": {
        "id": "WaEUJVpL2AIN"
      },
      "outputs": [],
      "source": [
        "# CHANGE MODEL TO 'MyGRU' or 'MyLSTM'\n",
        "\n",
        "model = MyGRU(n_inputs=2, n_hidden=10, n_rnnlayers=2, n_outputs=36)\n",
        "model.to(device)\n",
        "criterion = nn.MSELoss()\n",
        "optimizer = torch.optim.Adam(model.parameters(), lr=0.001)"
      ]
    },
    {
      "cell_type": "code",
      "execution_count": null,
      "metadata": {
        "colab": {
          "base_uri": "https://localhost:8080/"
        },
        "id": "RfiIY9142AIO",
        "outputId": "fc7f0392-1f50-4f93-f941-1624363944e6"
      },
      "outputs": [
        {
          "output_type": "stream",
          "name": "stderr",
          "text": [
            "\r  0%|          | 0/3 [00:00<?, ?it/s]/usr/local/lib/python3.10/dist-packages/torch/utils/data/dataloader.py:557: UserWarning: This DataLoader will create 4 worker processes in total. Our suggested max number of worker in current system is 2, which is smaller than what this DataLoader is going to create. Please be aware that excessive worker creation might get DataLoader running slow or even freeze, lower the worker number to avoid potential slowness/freeze if necessary.\n",
            "  warnings.warn(_create_warning_msg(\n",
            " 33%|███▎      | 1/3 [00:35<01:11, 36.00s/it]"
          ]
        },
        {
          "output_type": "stream",
          "name": "stdout",
          "text": [
            "Epoch 1/3, Training Loss: 0.0788, Testing Loss: 0.0017\n"
          ]
        },
        {
          "output_type": "stream",
          "name": "stderr",
          "text": [
            "\r 67%|██████▋   | 2/3 [01:08<00:33, 33.68s/it]"
          ]
        },
        {
          "output_type": "stream",
          "name": "stdout",
          "text": [
            "Epoch 2/3, Training Loss: 0.0461, Testing Loss: 0.0017\n"
          ]
        },
        {
          "output_type": "stream",
          "name": "stderr",
          "text": [
            "100%|██████████| 3/3 [01:40<00:00, 33.57s/it]"
          ]
        },
        {
          "output_type": "stream",
          "name": "stdout",
          "text": [
            "Epoch 3/3, Training Loss: 0.0352, Testing Loss: 0.0017\n"
          ]
        },
        {
          "output_type": "stream",
          "name": "stderr",
          "text": [
            "\n"
          ]
        }
      ],
      "source": [
        "mean_loss = []\n",
        "losses = []\n",
        "test_losses = []\n",
        "mean_test_loss = []\n",
        "n_epochs = 3\n",
        "# ts = ToTensor()\n",
        "for it in tqdm(range(n_epochs)):\n",
        "\n",
        "  # TRAINING MODEL\n",
        "  for i_batch, sample_batched in enumerate(dataloader_train):\n",
        "    optimizer.zero_grad()\n",
        "    outputs = model(sample_batched['inputs'].to(device))\n",
        "    loss = criterion(outputs, sample_batched['outputs'].to(device))\n",
        "    losses.append(loss.item())\n",
        "    loss.backward()\n",
        "    optimizer.step()\n",
        "\n",
        "  # TESTING MODEL\n",
        "  for i_test,sample_test in enumerate(dataloader_test):\n",
        "      outputs = model(sample_test['inputs'].to(device))\n",
        "      test_loss = criterion(outputs, sample_test['outputs'].to(device))\n",
        "      test_losses.append(test_loss.item())\n",
        "\n",
        "\n",
        "  if (it+1) % 1 == 0:\n",
        "    print(f'Epoch {it+1}/{n_epochs}, Training Loss: {np.mean(losses):.4f}, Testing Loss: {np.mean(test_losses):.4f}')"
      ]
    },
    {
      "cell_type": "code",
      "execution_count": null,
      "metadata": {
        "colab": {
          "base_uri": "https://localhost:8080/",
          "height": 448
        },
        "id": "LhoouMHw2AIO",
        "outputId": "b763636f-4856-4990-f756-9db857db95b8"
      },
      "outputs": [
        {
          "output_type": "execute_result",
          "data": {
            "text/plain": [
              "<matplotlib.legend.Legend at 0x79f0f92b1600>"
            ]
          },
          "metadata": {},
          "execution_count": 15
        },
        {
          "output_type": "display_data",
          "data": {
            "text/plain": [
              "<Figure size 640x480 with 1 Axes>"
            ],
            "image/png": "[encoded data removed]"
          },
          "metadata": {}
        }
      ],
      "source": [
        "plt.plot(losses,'k',label='training')\n",
        "plt.plot(test_losses, 'r', label = 'testing')\n",
        "plt.legend()"
      ]
    },
    {
      "cell_type": "markdown",
      "source": [
        "# Above Program for Assignment: Use two dimensions for training and testing; Split data into test data and training data"
      ],
      "metadata": {
        "id": "ONX8nfjLWb2c"
      }
    }
  ],
  "metadata": {
    "kernelspec": {
      "display_name": "Python 3",
      "name": "python3"
    },
    "language_info": {
      "codemirror_mode": {
        "name": "ipython",
        "version": 3
      },
      "file_extension": ".py",
      "mimetype": "text/x-python",
      "name": "python",
      "nbconvert_exporter": "python",
      "pygments_lexer": "ipython3",
      "version": "3.10.0"
    },
    "orig_nbformat": 4,
    "colab": {
      "provenance": [],
      "gpuType": "T4",
      "include_colab_link": true
    },
    "accelerator": "GPU"
  },
  "nbformat": 4,
  "nbformat_minor": 0
}