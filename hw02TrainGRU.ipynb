{
 "cells": [
  {
   "cell_type": "code",
   "execution_count": 1,
   "metadata": {},
   "outputs": [
    {
     "name": "stdout",
     "output_type": "stream",
     "text": [
      "[WinError 123] The filename, directory name, or volume label syntax is incorrect: \"'D:\\\\Masters\\\\S1Class\\\\AdvResMeth8160\\\\Hw02'\"\n",
      "d:\\Masters\\S1Class\\AdvResMeth8160\\Hw02\n"
     ]
    }
   ],
   "source": [
    "# SET THE WORKING DIRECTORY FOR THIS ASSIGNMENT\n",
    "\n",
    "%cd 'D:\\Masters\\S1Class\\AdvResMeth8160\\Hw02'"
   ]
  },
  {
   "cell_type": "code",
   "execution_count": 2,
   "metadata": {},
   "outputs": [
    {
     "name": "stdout",
     "output_type": "stream",
     "text": [
      "cuda:0\n",
      "2.0.0\n"
     ]
    }
   ],
   "source": [
    "import torch\n",
    "device = torch.device(\"cuda:0\" if torch.cuda.is_available() else \"cpu\")\n",
    "print(device)\n",
    "torch.cuda.device_count()\n",
    "print(torch.__version__)"
   ]
  },
  {
   "cell_type": "code",
   "execution_count": 3,
   "metadata": {},
   "outputs": [],
   "source": [
    "# IMPORT NEEDED MODULES\n",
    "\n",
    "import torch.nn as nn\n",
    "import matplotlib.pyplot as plt\n",
    "import pandas as pd\n",
    "from tqdm import tqdm\n",
    "import os\n",
    "import numpy as np\n",
    "from torch.utils.data import Dataset, DataLoader\n",
    "from pathlib import Path\n",
    "import warnings\n",
    "from datetime import datetime\n",
    "warnings.filterwarnings(\"ignore\")"
   ]
  },
  {
   "cell_type": "code",
   "execution_count": 4,
   "metadata": {},
   "outputs": [],
   "source": [
    "class TrafficDataset(Dataset):\n",
    "  def __init__(self, pkl_path, window, horizon):\n",
    "    self.pkl_path = pkl_path\n",
    "    self.window = window\n",
    "    self.horizon = horizon\n",
    "\n",
    "\n",
    "   # RESHAPE THE DATAFRAME\n",
    "    df = pd.read_pickle(self.pkl_path)\n",
    "    reshaped_df = pd.DataFrame()\n",
    "    df['time'] = df['time'].apply(lambda x: int(datetime.strptime(x, \"%Y-%m-%d %H:%M:%S.%f\").timestamp()))\n",
    "    reshaped_df['TIME'] = df.time.unique()\n",
    "    for seg in df.segmentID.unique():\n",
    "        column =df[df['segmentID'] == seg][['time','TrafficIndex_GP']].drop_duplicates(subset=['time'])\n",
    "        column.columns = ['TIME', str(seg)]\n",
    "        reshaped_df = reshaped_df.join(column.set_index('TIME'), on='TIME')\n",
    "    reshaped_df = reshaped_df.set_index('TIME')\n",
    "    reshaped_df = reshaped_df.fillna(0)\n",
    "    # print(reshaped_df)\n",
    "\n",
    "\n",
    "    self.inputs = []\n",
    "    self.outputs = []\n",
    "    times = reshaped_df.index\n",
    "    \n",
    "    for column in reshaped_df.columns:\n",
    "       for t in range(0, len(times) - (self.window + self.horizon)):\n",
    "          w = times[t : t + self.window]\n",
    "          x_list = []\n",
    "          for i in range (0, self.window):\n",
    "            x_list.append(int(column))\n",
    "          x = x_list\n",
    "          y = reshaped_df[str(column)][t: t + self.window].values\n",
    "          wxy_cat = np.dstack([w,x,y])\n",
    "          self.inputs.append(wxy_cat)\n",
    "          z = reshaped_df[str(column)][self.window + t: self.window + t + self.horizon].values\n",
    "          self.outputs.append(z)\n",
    "    # print(len(self.inputs))\n",
    "    # print(len(self.outputs))\n",
    "       \n",
    "\n",
    "  def __len__(self):\n",
    "    return len(self.inputs)\n",
    "\n",
    "  def __getitem__(self,idx):\n",
    "    X = torch.tensor(self.inputs[idx],dtype=torch.float32)\n",
    "    y=torch.tensor(self.outputs[idx],dtype=torch.float32)\n",
    "    return {'inputs':X,'outputs':y}\n",
    "\n",
    "class ToTensor(object):\n",
    "    def __call__(self, bs,window, horizon, sample):\n",
    "        input, output = sample['inputs'], sample['outputs']\n",
    "\n",
    "        return {'inputs': torch.tensor(np.array(input),dtype=torch.float32),\n",
    "                'outputs': torch.tensor(np.array(output),dtype=torch.float32)}"
   ]
  },
  {
   "cell_type": "code",
   "execution_count": 5,
   "metadata": {},
   "outputs": [],
   "source": [
    "window = 36; horizon = 12\n",
    "traffic_obj_train = TrafficDataset('D:\\\\Masters\\\\S1Class\\\\AdvResMeth8160\\\\Hw02\\\\tps_df.pkl', window, horizon)"
   ]
  },
  {
   "cell_type": "code",
   "execution_count": 6,
   "metadata": {},
   "outputs": [],
   "source": [
    "bs = 5000\n",
    "dataloader_train = DataLoader(traffic_obj_train, batch_size=bs, shuffle=False, num_workers=4,drop_last=True)"
   ]
  },
  {
   "cell_type": "code",
   "execution_count": 7,
   "metadata": {},
   "outputs": [],
   "source": [
    "class MyGRU(nn.Module):\n",
    "  # build a constructor to define the inputs for the rnn module\n",
    "  def __init__(self, n_inputs, n_hidden, n_rnnlayers, n_outputs):\n",
    "    super(MyGRU,self).__init__()\n",
    "    self.D = n_inputs\n",
    "    self.M = n_hidden\n",
    "    self.K = n_outputs\n",
    "    self.L = n_rnnlayers\n",
    "    self.relu = nn.ReLU()\n",
    "\n",
    "    #batch_first means reshaping input to N x T x D\n",
    "    self.rnn = nn.GRU(\n",
    "        input_size=self.D,\n",
    "        hidden_size=self.M,\n",
    "        num_layers=self.L,\n",
    "        # nonlinearity='relu',\n",
    "        batch_first= True)\n",
    "    \n",
    "    self.fc = nn.Linear(self.M, self.K)\n",
    "    \n",
    "  def forward(self, X):\n",
    "    # initialize hidden states\n",
    "    h0 = torch.zeros(self.L, X.size(0), self.M).to(device)\n",
    "\n",
    "    # out is N x T x M\n",
    "    # second output returns hidden state at each hidden layers\n",
    "    out,_ = self.rnn(X,h0)\n",
    "\n",
    "    # we only want the hidden state at the final step\n",
    "    # out is now N x M\n",
    "    out = self.fc(self.relu(out[:,-1,:]))\n",
    "    # out = self.fc(out[:,-1,:])\n",
    "    return out"
   ]
  },
  {
   "cell_type": "code",
   "execution_count": 10,
   "metadata": {},
   "outputs": [],
   "source": [
    "model = MyGRU(n_inputs=3, n_hidden=1, n_rnnlayers=1, n_outputs=12)\n",
    "model.to(device)\n",
    "criterion = nn.MSELoss()\n",
    "optimizer = torch.optim.Adam(model.parameters(), lr=0.001)"
   ]
  },
  {
   "cell_type": "code",
   "execution_count": 11,
   "metadata": {},
   "outputs": [
    {
     "name": "stderr",
     "output_type": "stream",
     "text": [
      "  0%|          | 0/10 [00:00<?, ?it/s]"
     ]
    },
    {
     "name": "stdout",
     "output_type": "stream",
     "text": [
      "tensor(1.3747, device='cuda:0', grad_fn=<MseLossBackward0>)\n"
     ]
    },
    {
     "name": "stderr",
     "output_type": "stream",
     "text": [
      " 10%|█         | 1/10 [54:52<8:13:50, 3292.30s/it]"
     ]
    },
    {
     "name": "stdout",
     "output_type": "stream",
     "text": [
      "Epoch 1/10, Training Loss: 0.0106\n",
      "tensor(2.2009e-10, device='cuda:0', grad_fn=<MseLossBackward0>)\n"
     ]
    },
    {
     "name": "stderr",
     "output_type": "stream",
     "text": [
      " 20%|██        | 2/10 [1:49:48<7:19:15, 3294.48s/it]"
     ]
    },
    {
     "name": "stdout",
     "output_type": "stream",
     "text": [
      "Epoch 2/10, Training Loss: 0.0105\n",
      "tensor(2.2009e-10, device='cuda:0', grad_fn=<MseLossBackward0>)\n"
     ]
    },
    {
     "name": "stderr",
     "output_type": "stream",
     "text": [
      " 30%|███       | 3/10 [2:44:38<6:24:08, 3292.58s/it]"
     ]
    },
    {
     "name": "stdout",
     "output_type": "stream",
     "text": [
      "Epoch 3/10, Training Loss: 0.0104\n",
      "tensor(2.2009e-10, device='cuda:0', grad_fn=<MseLossBackward0>)\n"
     ]
    },
    {
     "name": "stderr",
     "output_type": "stream",
     "text": [
      " 40%|████      | 4/10 [3:39:35<5:29:26, 3294.37s/it]"
     ]
    },
    {
     "name": "stdout",
     "output_type": "stream",
     "text": [
      "Epoch 4/10, Training Loss: 0.0104\n",
      "tensor(2.2009e-10, device='cuda:0', grad_fn=<MseLossBackward0>)\n"
     ]
    },
    {
     "name": "stderr",
     "output_type": "stream",
     "text": [
      " 50%|█████     | 5/10 [4:34:44<4:34:57, 3299.50s/it]"
     ]
    },
    {
     "name": "stdout",
     "output_type": "stream",
     "text": [
      "Epoch 5/10, Training Loss: 0.0103\n",
      "tensor(2.2009e-10, device='cuda:0', grad_fn=<MseLossBackward0>)\n"
     ]
    },
    {
     "name": "stderr",
     "output_type": "stream",
     "text": [
      " 60%|██████    | 6/10 [5:29:44<3:39:58, 3299.70s/it]"
     ]
    },
    {
     "name": "stdout",
     "output_type": "stream",
     "text": [
      "Epoch 6/10, Training Loss: 0.0103\n",
      "tensor(2.2009e-10, device='cuda:0', grad_fn=<MseLossBackward0>)\n"
     ]
    },
    {
     "name": "stderr",
     "output_type": "stream",
     "text": [
      " 70%|███████   | 7/10 [6:24:57<2:45:11, 3303.93s/it]"
     ]
    },
    {
     "name": "stdout",
     "output_type": "stream",
     "text": [
      "Epoch 7/10, Training Loss: 0.0103\n",
      "tensor(2.2009e-10, device='cuda:0', grad_fn=<MseLossBackward0>)\n"
     ]
    },
    {
     "name": "stderr",
     "output_type": "stream",
     "text": [
      " 80%|████████  | 8/10 [7:20:15<1:50:16, 3308.49s/it]"
     ]
    },
    {
     "name": "stdout",
     "output_type": "stream",
     "text": [
      "Epoch 8/10, Training Loss: 0.0103\n",
      "tensor(2.2009e-10, device='cuda:0', grad_fn=<MseLossBackward0>)\n"
     ]
    },
    {
     "name": "stderr",
     "output_type": "stream",
     "text": [
      " 90%|█████████ | 9/10 [8:15:36<55:12, 3312.42s/it]  "
     ]
    },
    {
     "name": "stdout",
     "output_type": "stream",
     "text": [
      "Epoch 9/10, Training Loss: 0.0103\n",
      "tensor(2.2009e-10, device='cuda:0', grad_fn=<MseLossBackward0>)\n"
     ]
    },
    {
     "name": "stderr",
     "output_type": "stream",
     "text": [
      "100%|██████████| 10/10 [9:10:57<00:00, 3305.74s/it]"
     ]
    },
    {
     "name": "stdout",
     "output_type": "stream",
     "text": [
      "Epoch 10/10, Training Loss: 0.0103\n"
     ]
    },
    {
     "name": "stderr",
     "output_type": "stream",
     "text": [
      "\n"
     ]
    }
   ],
   "source": [
    "mean_loss = []\n",
    "losses = []\n",
    "test_losses = []\n",
    "mean_test_loss = []\n",
    "n_epochs = 10\n",
    "# ts = ToTensor()\n",
    "for it in tqdm(range(n_epochs)):\n",
    "  # zero the parameter gradients\n",
    "  for i_batch, sample_batched in enumerate(traffic_obj_train):\n",
    "    optimizer.zero_grad()\n",
    "    outputs = model(sample_batched['inputs'].to(device))\n",
    "    loss = criterion(outputs, sample_batched['outputs'].to(device))\n",
    "    if i_batch == 1:\n",
    "      print (loss)\n",
    "    losses.append(loss.item())\n",
    "    loss.backward()\n",
    "    optimizer.step()\n",
    "    \n",
    "\n",
    "  # for i_test,sample_test in enumerate(traffic_obj_test):\n",
    "  #     sample_test = ts(bs,window, horizon, sample_batched)\n",
    "  #     outputs = model(sample_test['inputs'].to(device))\n",
    "  #     test_loss = criterion(outputs, sample_test['outputs'].to(device))\n",
    "  #     test_losses.append(test_loss.item())\n",
    "\n",
    "  mean_loss.append(np.mean(losses))\n",
    "  # mean_test_loss.append(np.mean(test_losses))\n",
    "  if (it+1) % 1 == 0:\n",
    "    print(f'Epoch {it+1}/{n_epochs}, Training Loss: {np.mean(losses):.4f}')\n",
    "    # Testing Loss: {np.mean(test_losses):.4f}')"
   ]
  },
  {
   "cell_type": "code",
   "execution_count": 12,
   "metadata": {},
   "outputs": [
    {
     "data": {
      "text/plain": [
       "<function matplotlib.pyplot.legend(*args, **kwargs) -> 'Legend'>"
      ]
     },
     "execution_count": 12,
     "metadata": {},
     "output_type": "execute_result"
    },
    {
     "data": {
      "image/png": "[encoded data removed]",
      "text/plain": [
       "<Figure size 640x480 with 1 Axes>"
      ]
     },
     "metadata": {},
     "output_type": "display_data"
    }
   ],
   "source": [
    "plt.plot(mean_loss, 'k', label = 'training')\n",
    "plt.legend"
   ]
  },
  {
   "cell_type": "code",
   "execution_count": 19,
   "metadata": {},
   "outputs": [
    {
     "data": {
      "text/plain": [
       "[<matplotlib.lines.Line2D at 0x1ae6d17afe0>]"
      ]
     },
     "execution_count": 19,
     "metadata": {},
     "output_type": "execute_result"
    },
    {
     "data": {
      "image/png": "[encoded data removed]",
      "text/plain": [
       "<Figure size 640x480 with 1 Axes>"
      ]
     },
     "metadata": {},
     "output_type": "display_data"
    }
   ],
   "source": [
    "plt.plot(losses[0:3000])"
   ]
  },
  {
   "cell_type": "code",
   "execution_count": 14,
   "metadata": {},
   "outputs": [],
   "source": [
    "torch.save(model.state_dict(), 'HW02GRU10E.pt')"
   ]
  }
 ],
 "metadata": {
  "kernelspec": {
   "display_name": "Python 3",
   "language": "python",
   "name": "python3"
  },
  "language_info": {
   "codemirror_mode": {
    "name": "ipython",
    "version": 3
   },
   "file_extension": ".py",
   "mimetype": "text/x-python",
   "name": "python",
   "nbconvert_exporter": "python",
   "pygments_lexer": "ipython3",
   "version": "3.10.13"
  }
 },
 "nbformat": 4,
 "nbformat_minor": 2
}
