{
  "cells": [
    {
      "cell_type": "markdown",
      "metadata": {
        "id": "view-in-github",
        "colab_type": "text"
      },
      "source": [
        "<a href=\"https://colab.research.google.com/github/jacobadodge/Spring2024_CVENG_8160/blob/main/Accuracy_GRU_LSTM.ipynb\" target=\"_parent\"><img src=\"https://colab.research.google.com/assets/colab-badge.svg\" alt=\"Open In Colab\"/></a>"
      ]
    },
    {
      "cell_type": "code",
      "source": [
        "# MOUNT DRIVE\n",
        "\n",
        "from google.colab import drive\n",
        "drive.mount('/content/drive')"
      ],
      "metadata": {
        "colab": {
          "base_uri": "https://localhost:8080/"
        },
        "id": "IzWu89MT1_5H",
        "outputId": "bd60504b-2b2a-4e86-f9ac-7c72308f8757"
      },
      "execution_count": 1,
      "outputs": [
        {
          "output_type": "stream",
          "name": "stdout",
          "text": [
            "Drive already mounted at /content/drive; to attempt to forcibly remount, call drive.mount(\"/content/drive\", force_remount=True).\n"
          ]
        }
      ]
    },
    {
      "cell_type": "code",
      "source": [
        "# CHAGNE DIRECTORY\n",
        "\n",
        "%cd '/content/drive/MyDrive/Masters/Semester 1/CVENG_8160_ADV_RES_METH_TRANS/module 06 (time series forecasting)'"
      ],
      "metadata": {
        "colab": {
          "base_uri": "https://localhost:8080/"
        },
        "id": "cLodjQci2AVZ",
        "outputId": "90110442-362e-42f9-c939-d6210b92e808"
      },
      "execution_count": 2,
      "outputs": [
        {
          "output_type": "stream",
          "name": "stdout",
          "text": [
            "/content/drive/MyDrive/Masters/Semester 1/CVENG_8160_ADV_RES_METH_TRANS/module 06 (time series forecasting)\n"
          ]
        }
      ]
    },
    {
      "cell_type": "code",
      "execution_count": 3,
      "metadata": {
        "id": "sN_P-Lv218jb"
      },
      "outputs": [],
      "source": [
        "import pandas as pd\n",
        "import random, math\n",
        "import torch\n",
        "import torch.nn as nn\n",
        "import numpy as np\n",
        "import matplotlib.pyplot as plt\n",
        "from sklearn.preprocessing import StandardScaler\n",
        "from scipy import fftpack\n",
        "import torch.utils.data as utils\n",
        "import os\n",
        "from sklearn.metrics import mean_absolute_percentage_error\n",
        "from torch.utils.data import Dataset, DataLoader\n",
        "from tqdm import tqdm"
      ]
    },
    {
      "cell_type": "code",
      "execution_count": 4,
      "metadata": {
        "id": "_Kfoefjv18jf"
      },
      "outputs": [],
      "source": [
        "# !gdown 'https://drive.google.com/uc?id=1E_qqe7kfvfApM4hCOBMPoXhyEPyrUJkN'\n",
        "# !gdown 'https://drive.google.com/uc?id=1j-3-lHegY--FDHKZvz86HBtilV2dsP-i'"
      ]
    },
    {
      "cell_type": "code",
      "execution_count": 5,
      "metadata": {
        "id": "Ud-FXELe18jf"
      },
      "outputs": [],
      "source": [
        "# !unzip 'train.zip' -d '.'\n",
        "# !unzip 'test.zip' -d '.'"
      ]
    },
    {
      "cell_type": "code",
      "source": [
        "# SPLIT DATA INTO TEST AND TRAIN\n",
        "\n",
        "df = pd.read_pickle('tps_df.pkl')\n",
        "test = .2\n",
        "df_len = df.shape[0]\n",
        "df_train, df_test = df.iloc[0:df_len - int(test*df_len)], df.iloc[df_len - int(test*df_len):]\n",
        "df_train.to_csv('data/train2.csv', index = False)  # save training data as 'train.csv' in 'data' folder\n",
        "df_test.to_csv('data/test2.csv', index = False)  # save testing data as 'test.csv' in 'data' folder\n",
        "df_train.shape, df_test.shape"
      ],
      "metadata": {
        "colab": {
          "base_uri": "https://localhost:8080/"
        },
        "id": "vsyIYKNNfcNC",
        "outputId": "ff8a2e21-1ac6-4f40-e4c9-9e96a73411d5"
      },
      "execution_count": 6,
      "outputs": [
        {
          "output_type": "execute_result",
          "data": {
            "text/plain": [
              "((1012750, 8), (253187, 8))"
            ]
          },
          "metadata": {},
          "execution_count": 6
        }
      ]
    },
    {
      "cell_type": "code",
      "execution_count": 7,
      "metadata": {
        "id": "zb9drIce18jg"
      },
      "outputs": [],
      "source": [
        "class TrafficForecast():\n",
        "    def __init__(self,pkl_path, window, horizon):\n",
        "        self.pkl_path = pkl_path\n",
        "        self.window = window\n",
        "        self.horizon = horizon\n",
        "        self.df = None\n",
        "        self.seg_ids = None\n",
        "        self.inputs = []\n",
        "        self.targets = []\n",
        "\n",
        "\n",
        "        df = pd.read_csv(self.pkl_path)\n",
        "        df['time'] = pd.to_datetime(df['time'])\n",
        "        df['unix_timestamp'] = df['time'].astype(int) / 10**9\n",
        "        df['dow'] = df['time'].dt.weekday\n",
        "        df['hour'] = df['time'].dt.hour\n",
        "        df['min'] = df['time'].dt.minute\n",
        "        self.df = df.sample(frac=1).reset_index(drop=True)\n",
        "        self.seg_ids = self.df['segmentID'].unique()\n",
        "        self.setup_forecast()\n",
        "\n",
        "    def setup_forecast(self):\n",
        "        for segid in self.seg_ids:\n",
        "            df_seg_id = self.df[self.df['segmentID'] == segid]\n",
        "            df_seg_id = df_seg_id.sort_values(by='time',ascending=True)\n",
        "            df_seg_id = df_seg_id.fillna(method=\"ffill\")\n",
        "            TI_series = df_seg_id['TrafficIndex_GP'].values\n",
        "            for t in range(0,len(TI_series)-(self.window+self.horizon)):\n",
        "                x = TI_series[t:t+self.window]\n",
        "                y = TI_series[t+self.window:(t+self.window+self.horizon)]\n",
        "\n",
        "                self.inputs.append(x)\n",
        "                self.targets.append(y)\n",
        "\n",
        "    def __len__(self):\n",
        "        return len(self.inputs)\n",
        "\n",
        "\n",
        "    def __getitem__(self,idx):\n",
        "        X = torch.tensor(self.inputs[idx],dtype=torch.float32).reshape(self.window,1)\n",
        "        y=torch.tensor(self.targets[idx],dtype=torch.float32)\n",
        "\n",
        "        return {'inputs':X,'outputs':y}\n"
      ]
    },
    {
      "cell_type": "code",
      "execution_count": 8,
      "metadata": {
        "id": "4mb7YJDG18jg"
      },
      "outputs": [],
      "source": [
        "# CREATE OBJECT FOR TRIANING AND TESTING\n",
        "\n",
        "tobj_train = TrafficForecast('/content/drive/MyDrive/Masters/Semester 1/CVENG_8160_ADV_RES_METH_TRANS/module 06 (time series forecasting)/data/train2.csv',10,36)\n",
        "tobj_test = TrafficForecast('/content/drive/MyDrive/Masters/Semester 1/CVENG_8160_ADV_RES_METH_TRANS/module 06 (time series forecasting)/data/test2.csv',10,36)"
      ]
    },
    {
      "cell_type": "code",
      "execution_count": 9,
      "metadata": {
        "colab": {
          "base_uri": "https://localhost:8080/"
        },
        "id": "oI92CT0j18jh",
        "outputId": "433aa272-126e-4ffb-eddf-51aa75ebc858"
      },
      "outputs": [
        {
          "output_type": "stream",
          "name": "stderr",
          "text": [
            "/usr/local/lib/python3.10/dist-packages/torch/utils/data/dataloader.py:557: UserWarning: This DataLoader will create 4 worker processes in total. Our suggested max number of worker in current system is 2, which is smaller than what this DataLoader is going to create. Please be aware that excessive worker creation might get DataLoader running slow or even freeze, lower the worker number to avoid potential slowness/freeze if necessary.\n",
            "  warnings.warn(_create_warning_msg(\n"
          ]
        }
      ],
      "source": [
        "bs = 1024\n",
        "dataloader_train = DataLoader(tobj_train, batch_size=bs, shuffle=False, num_workers=4,drop_last=True)\n",
        "dataloader_test = DataLoader(tobj_test, batch_size=bs, shuffle=False, num_workers=4,drop_last=True)"
      ]
    },
    {
      "cell_type": "code",
      "execution_count": 10,
      "metadata": {
        "id": "ITDt9dJS18jh"
      },
      "outputs": [],
      "source": [
        "# for idx, data in enumerate(dataloader_train):\n",
        "#     print (data['inputs'].shape,data['outputs'].shape)"
      ]
    },
    {
      "cell_type": "code",
      "execution_count": 11,
      "metadata": {
        "id": "kGG0IEHH18ji"
      },
      "outputs": [],
      "source": [
        "device = torch.device(\"cuda:0\" if torch.cuda.is_available() else \"cpu\")"
      ]
    },
    {
      "cell_type": "code",
      "execution_count": 12,
      "metadata": {
        "id": "wSXG-zfH18ji"
      },
      "outputs": [],
      "source": [
        "from models import MyLSTM, MyGRU"
      ]
    },
    {
      "cell_type": "code",
      "execution_count": 13,
      "metadata": {
        "id": "8R6RL2Dz18ji"
      },
      "outputs": [],
      "source": [
        "model = MyLSTM(n_inputs=1, n_hidden=10, n_rnnlayers=2, n_outputs=36)\n",
        "model.to(device)\n",
        "criterion = nn.MSELoss()\n",
        "optimizer = torch.optim.Adam(model.parameters(), lr=0.001)"
      ]
    },
    {
      "cell_type": "code",
      "execution_count": 14,
      "metadata": {
        "colab": {
          "base_uri": "https://localhost:8080/"
        },
        "id": "0wc2Wyik18jj",
        "outputId": "613a9096-a6e0-482b-ef3a-b1970100f7d5"
      },
      "outputs": [
        {
          "output_type": "stream",
          "name": "stderr",
          "text": [
            "\r  0%|          | 0/3 [00:00<?, ?it/s]/usr/local/lib/python3.10/dist-packages/torch/utils/data/dataloader.py:557: UserWarning: This DataLoader will create 4 worker processes in total. Our suggested max number of worker in current system is 2, which is smaller than what this DataLoader is going to create. Please be aware that excessive worker creation might get DataLoader running slow or even freeze, lower the worker number to avoid potential slowness/freeze if necessary.\n",
            "  warnings.warn(_create_warning_msg(\n",
            " 33%|███▎      | 1/3 [01:03<02:07, 63.73s/it]"
          ]
        },
        {
          "output_type": "stream",
          "name": "stdout",
          "text": [
            "Epoch 1/3, Training Loss: 0.0636, Testing Loss: 0.0034\n"
          ]
        },
        {
          "output_type": "stream",
          "name": "stderr",
          "text": [
            "\r 67%|██████▋   | 2/3 [02:09<01:05, 65.01s/it]"
          ]
        },
        {
          "output_type": "stream",
          "name": "stdout",
          "text": [
            "Epoch 2/3, Training Loss: 0.0386, Testing Loss: 0.0031\n"
          ]
        },
        {
          "output_type": "stream",
          "name": "stderr",
          "text": [
            "100%|██████████| 3/3 [03:15<00:00, 65.05s/it]"
          ]
        },
        {
          "output_type": "stream",
          "name": "stdout",
          "text": [
            "Epoch 3/3, Training Loss: 0.0302, Testing Loss: 0.0027\n",
            "The rmse for the model is 0.05206566027197086\n"
          ]
        },
        {
          "output_type": "stream",
          "name": "stderr",
          "text": [
            "\n"
          ]
        }
      ],
      "source": [
        "mean_loss = []\n",
        "losses = []\n",
        "test_losses = []\n",
        "mean_test_loss = []\n",
        "n_epochs = 3\n",
        "# ts = ToTensor()\n",
        "for it in tqdm(range(n_epochs)):\n",
        "\n",
        "\n",
        "  # TRAINING MODEL\n",
        "  for i_batch, sample_batched in enumerate(dataloader_train):\n",
        "    optimizer.zero_grad()\n",
        "    outputs = model(sample_batched['inputs'].to(device))\n",
        "    loss = criterion(outputs, sample_batched['outputs'].to(device))\n",
        "    losses.append(loss.item())\n",
        "    loss.backward()\n",
        "    optimizer.step()\n",
        "\n",
        "\n",
        "  # TESTING MODEL\n",
        "  for i_test,sample_test in enumerate(dataloader_test):\n",
        "      outputs = model(sample_test['inputs'].to(device))\n",
        "      test_loss = criterion(outputs, sample_test['outputs'].to(device))\n",
        "      test_losses.append(test_loss.item())\n",
        "\n",
        "\n",
        "  if (it+1) % 1 == 0:\n",
        "    print(f'Epoch {it+1}/{n_epochs}, Training Loss: {np.mean(losses):.4f}, Testing Loss: {np.mean(test_losses):.4f}')\n",
        "\n",
        "\n",
        "#CALCULATE ACCURACY OF THE MODEL\n",
        "import math\n",
        "mean_test_mse = sum(test_losses) / len(test_losses)\n",
        "mean_test_rmse = math.sqrt(mean_test_mse)\n",
        "print('The rmse for the model is', mean_test_rmse)"
      ]
    },
    {
      "cell_type": "code",
      "execution_count": 15,
      "metadata": {
        "colab": {
          "base_uri": "https://localhost:8080/",
          "height": 448
        },
        "id": "Goeado9I18jj",
        "outputId": "6c251612-c023-4e05-dd9e-d2adc4c38483"
      },
      "outputs": [
        {
          "output_type": "execute_result",
          "data": {
            "text/plain": [
              "<matplotlib.legend.Legend at 0x7de9fecd9f60>"
            ]
          },
          "metadata": {},
          "execution_count": 15
        },
        {
          "output_type": "display_data",
          "data": {
            "text/plain": [
              "<Figure size 640x480 with 1 Axes>"
            ],
            "image/png": "[encoded data removed]"
          },
          "metadata": {}
        }
      ],
      "source": [
        "plt.plot(losses,'k',label='training')\n",
        "plt.plot(test_losses, 'r', label = 'test')\n",
        "plt.legend()"
      ]
    },
    {
      "cell_type": "code",
      "source": [
        "torch.save(model.state_dict(), \"LSTMW10H36.pth\")"
      ],
      "metadata": {
        "id": "UxdlDr-WuawU"
      },
      "execution_count": 16,
      "outputs": []
    },
    {
      "cell_type": "markdown",
      "source": [],
      "metadata": {
        "id": "qDdXfA16TMwK"
      }
    },
    {
      "cell_type": "markdown",
      "source": [
        "#Above Program for Assignment: Calculate accuracy of GRU/LSTM model"
      ],
      "metadata": {
        "id": "-EtAJAp9gtqk"
      }
    }
  ],
  "metadata": {
    "kernelspec": {
      "display_name": "emernerf",
      "language": "python",
      "name": "python3"
    },
    "language_info": {
      "codemirror_mode": {
        "name": "ipython",
        "version": 3
      },
      "file_extension": ".py",
      "mimetype": "text/x-python",
      "name": "python",
      "nbconvert_exporter": "python",
      "pygments_lexer": "ipython3",
      "version": "3.10.0"
    },
    "orig_nbformat": 4,
    "colab": {
      "provenance": [],
      "include_colab_link": true
    }
  },
  "nbformat": 4,
  "nbformat_minor": 0
}