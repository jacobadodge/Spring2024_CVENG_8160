{
 "cells": [
  {
   "cell_type": "code",
   "execution_count": 1,
   "metadata": {},
   "outputs": [
    {
     "name": "stdout",
     "output_type": "stream",
     "text": [
      "[WinError 123] The filename, directory name, or volume label syntax is incorrect: \"'D:\\\\Masters\\\\S1Class\\\\AdvResMeth8160\\\\Hw02'\"\n",
      "d:\\Masters\\S1Class\\AdvResMeth8160\\Hw02\n"
     ]
    }
   ],
   "source": [
    "# SET THE WORKING DIRECTORY FOR THIS ASSIGNMENT\n",
    "\n",
    "%cd 'D:\\Masters\\S1Class\\AdvResMeth8160\\Hw02'"
   ]
  },
  {
   "cell_type": "code",
   "execution_count": 2,
   "metadata": {},
   "outputs": [
    {
     "name": "stdout",
     "output_type": "stream",
     "text": [
      "cuda:0\n",
      "2.0.0\n"
     ]
    }
   ],
   "source": [
    "import torch\n",
    "device = torch.device(\"cuda:0\" if torch.cuda.is_available() else \"cpu\")\n",
    "print(device)\n",
    "torch.cuda.device_count()\n",
    "print(torch.__version__)"
   ]
  },
  {
   "cell_type": "code",
   "execution_count": 3,
   "metadata": {},
   "outputs": [],
   "source": [
    "# IMPORT NEEDED MODULES\n",
    "\n",
    "import torch.nn as nn\n",
    "import matplotlib.pyplot as plt\n",
    "import pandas as pd\n",
    "from tqdm import tqdm\n",
    "import os\n",
    "import numpy as np\n",
    "from torch.utils.data import Dataset, DataLoader\n",
    "from pathlib import Path\n",
    "import warnings\n",
    "from datetime import datetime\n",
    "warnings.filterwarnings(\"ignore\")"
   ]
  },
  {
   "cell_type": "code",
   "execution_count": 4,
   "metadata": {},
   "outputs": [],
   "source": [
    "class TrafficDataset(Dataset):\n",
    "  def __init__(self, pkl_path, window, horizon):\n",
    "    self.pkl_path = pkl_path\n",
    "    self.window = window\n",
    "    self.horizon = horizon\n",
    "\n",
    "\n",
    "   # RESHAPE THE DATAFRAME\n",
    "    df = pd.read_pickle(self.pkl_path)\n",
    "    reshaped_df = pd.DataFrame()\n",
    "    df['time'] = df['time'].apply(lambda x: int(datetime.strptime(x, \"%Y-%m-%d %H:%M:%S.%f\").timestamp()))\n",
    "    reshaped_df['TIME'] = df.time.unique()\n",
    "    for seg in df.segmentID.unique():\n",
    "        column =df[df['segmentID'] == seg][['time','TrafficIndex_GP']].drop_duplicates(subset=['time'])\n",
    "        column.columns = ['TIME', str(seg)]\n",
    "        reshaped_df = reshaped_df.join(column.set_index('TIME'), on='TIME')\n",
    "    reshaped_df = reshaped_df.set_index('TIME')\n",
    "    reshaped_df = reshaped_df.fillna(0)\n",
    "    # print(reshaped_df)\n",
    "\n",
    "\n",
    "    self.inputs = []\n",
    "    self.outputs = []\n",
    "    times = reshaped_df.index\n",
    "    \n",
    "    for column in reshaped_df.columns:\n",
    "       for t in range(0, len(times) - (self.window + self.horizon)):\n",
    "          w = times[t : t + self.window]\n",
    "          x_list = []\n",
    "          for i in range (0, self.window):\n",
    "            x_list.append(int(column))\n",
    "          x = x_list\n",
    "          y = reshaped_df[str(column)][t: t + self.window].values\n",
    "          wxy_cat = np.dstack([w,x,y])\n",
    "          self.inputs.append(wxy_cat)\n",
    "          z = reshaped_df[str(column)][self.window + t: self.window + t + self.horizon].values\n",
    "          self.outputs.append(z)\n",
    "    # print(len(self.inputs))\n",
    "    # print(len(self.outputs))\n",
    "       \n",
    "\n",
    "  def __len__(self):\n",
    "    return len(self.inputs)\n",
    "\n",
    "  def __getitem__(self,idx):\n",
    "    X = torch.tensor(self.inputs[idx],dtype=torch.float32)\n",
    "    y=torch.tensor(self.outputs[idx],dtype=torch.float32)\n",
    "    return {'inputs':X,'outputs':y}\n",
    "\n",
    "class ToTensor(object):\n",
    "    def __call__(self, bs,window, horizon, sample):\n",
    "        input, output = sample['inputs'], sample['outputs']\n",
    "\n",
    "        return {'inputs': torch.tensor(np.array(input),dtype=torch.float32),\n",
    "                'outputs': torch.tensor(np.array(output),dtype=torch.float32)}"
   ]
  },
  {
   "cell_type": "code",
   "execution_count": 5,
   "metadata": {},
   "outputs": [],
   "source": [
    "window = 36; horizon = 12\n",
    "traffic_obj_train = TrafficDataset('D:\\\\Masters\\\\S1Class\\\\AdvResMeth8160\\\\Hw02\\\\tps_df.pkl', window, horizon)"
   ]
  },
  {
   "cell_type": "code",
   "execution_count": 6,
   "metadata": {},
   "outputs": [],
   "source": [
    "bs = 5000\n",
    "dataloader_train = DataLoader(traffic_obj_train, batch_size=bs, shuffle=False, num_workers=4,drop_last=True)"
   ]
  },
  {
   "cell_type": "code",
   "execution_count": 7,
   "metadata": {},
   "outputs": [],
   "source": [
    "class MyLSTM(nn.Module):\n",
    "  # build a constructor to define the inputs for the rnn module\n",
    "  def __init__(self, n_inputs, n_hidden, n_rnnlayers, n_outputs):\n",
    "    super(MyLSTM,self).__init__()\n",
    "    self.D = n_inputs\n",
    "    self.M = n_hidden\n",
    "    self.K = n_outputs\n",
    "    self.L = n_rnnlayers\n",
    "    # self.embedding_layer = nn.Embedding(23, 1)\n",
    "    self.relu = nn.ReLU()\n",
    "\n",
    "    #batch_first means reshaping input to N x T x D\n",
    "    self.rnn = nn.LSTM(\n",
    "        input_size=self.D,\n",
    "        hidden_size=self.M,\n",
    "        num_layers=self.L,\n",
    "        batch_first= True)\n",
    "    \n",
    "    self.fc = nn.Linear(self.M, self.K)\n",
    "    \n",
    "  def forward(self, X):\n",
    "    # initialize hidden states\n",
    "    h0 = torch.zeros(self.L, X.size(0), self.M).to(device)\n",
    "    c0 = torch.zeros(self.L, X.size(0), self.M).to(device)\n",
    "\n",
    "    out,_ = self.rnn(X,(h0,c0))\n",
    "\n",
    "    # we only want the hidden state at the final step\n",
    "    # out is now N x M\n",
    "    out = self.fc(out[:,-1,:])\n",
    "\n",
    "    return out"
   ]
  },
  {
   "cell_type": "code",
   "execution_count": 10,
   "metadata": {},
   "outputs": [],
   "source": [
    "model = MyLSTM(n_inputs=3, n_hidden=1, n_rnnlayers=1, n_outputs=12)\n",
    "model.to(device)\n",
    "criterion = nn.MSELoss()\n",
    "optimizer = torch.optim.Adam(model.parameters(), lr=0.001)"
   ]
  },
  {
   "cell_type": "code",
   "execution_count": 11,
   "metadata": {},
   "outputs": [
    {
     "name": "stderr",
     "output_type": "stream",
     "text": [
      "  0%|          | 0/10 [00:00<?, ?it/s]"
     ]
    },
    {
     "name": "stdout",
     "output_type": "stream",
     "text": [
      "tensor(1.2860, device='cuda:0', grad_fn=<MseLossBackward0>)\n"
     ]
    },
    {
     "name": "stderr",
     "output_type": "stream",
     "text": [
      " 10%|█         | 1/10 [1:00:31<9:04:47, 3631.97s/it]"
     ]
    },
    {
     "name": "stdout",
     "output_type": "stream",
     "text": [
      "Epoch 1/10, Training Loss: 0.0107\n",
      "tensor(1.5963e-10, device='cuda:0', grad_fn=<MseLossBackward0>)\n"
     ]
    },
    {
     "name": "stderr",
     "output_type": "stream",
     "text": [
      " 20%|██        | 2/10 [2:01:02<8:04:08, 3631.05s/it]"
     ]
    },
    {
     "name": "stdout",
     "output_type": "stream",
     "text": [
      "Epoch 2/10, Training Loss: 0.0104\n",
      "tensor(1.5963e-10, device='cuda:0', grad_fn=<MseLossBackward0>)\n"
     ]
    },
    {
     "name": "stderr",
     "output_type": "stream",
     "text": [
      " 30%|███       | 3/10 [3:01:36<7:03:45, 3632.25s/it]"
     ]
    },
    {
     "name": "stdout",
     "output_type": "stream",
     "text": [
      "Epoch 3/10, Training Loss: 0.0103\n",
      "tensor(1.5963e-10, device='cuda:0', grad_fn=<MseLossBackward0>)\n"
     ]
    },
    {
     "name": "stderr",
     "output_type": "stream",
     "text": [
      " 40%|████      | 4/10 [4:02:03<6:03:01, 3630.26s/it]"
     ]
    },
    {
     "name": "stdout",
     "output_type": "stream",
     "text": [
      "Epoch 4/10, Training Loss: 0.0103\n",
      "tensor(1.5963e-10, device='cuda:0', grad_fn=<MseLossBackward0>)\n"
     ]
    },
    {
     "name": "stderr",
     "output_type": "stream",
     "text": [
      " 50%|█████     | 5/10 [5:02:33<5:02:31, 3630.25s/it]"
     ]
    },
    {
     "name": "stdout",
     "output_type": "stream",
     "text": [
      "Epoch 5/10, Training Loss: 0.0102\n",
      "tensor(1.5963e-10, device='cuda:0', grad_fn=<MseLossBackward0>)\n"
     ]
    },
    {
     "name": "stderr",
     "output_type": "stream",
     "text": [
      " 60%|██████    | 6/10 [6:03:07<4:02:06, 3631.67s/it]"
     ]
    },
    {
     "name": "stdout",
     "output_type": "stream",
     "text": [
      "Epoch 6/10, Training Loss: 0.0102\n",
      "tensor(1.5963e-10, device='cuda:0', grad_fn=<MseLossBackward0>)\n"
     ]
    },
    {
     "name": "stderr",
     "output_type": "stream",
     "text": [
      " 70%|███████   | 7/10 [7:04:05<3:02:00, 3640.14s/it]"
     ]
    },
    {
     "name": "stdout",
     "output_type": "stream",
     "text": [
      "Epoch 7/10, Training Loss: 0.0102\n",
      "tensor(1.5963e-10, device='cuda:0', grad_fn=<MseLossBackward0>)\n"
     ]
    },
    {
     "name": "stderr",
     "output_type": "stream",
     "text": [
      " 80%|████████  | 8/10 [8:05:07<2:01:34, 3647.09s/it]"
     ]
    },
    {
     "name": "stdout",
     "output_type": "stream",
     "text": [
      "Epoch 8/10, Training Loss: 0.0102\n",
      "tensor(1.5963e-10, device='cuda:0', grad_fn=<MseLossBackward0>)\n"
     ]
    },
    {
     "name": "stderr",
     "output_type": "stream",
     "text": [
      " 90%|█████████ | 9/10 [9:05:56<1:00:47, 3647.84s/it]"
     ]
    },
    {
     "name": "stdout",
     "output_type": "stream",
     "text": [
      "Epoch 9/10, Training Loss: 0.0102\n",
      "tensor(1.5963e-10, device='cuda:0', grad_fn=<MseLossBackward0>)\n"
     ]
    },
    {
     "name": "stderr",
     "output_type": "stream",
     "text": [
      "100%|██████████| 10/10 [9:48:27<00:00, 3530.76s/it] "
     ]
    },
    {
     "name": "stdout",
     "output_type": "stream",
     "text": [
      "Epoch 10/10, Training Loss: 0.0102\n"
     ]
    },
    {
     "name": "stderr",
     "output_type": "stream",
     "text": [
      "\n"
     ]
    }
   ],
   "source": [
    "mean_loss = []\n",
    "losses = []\n",
    "test_losses = []\n",
    "mean_test_loss = []\n",
    "n_epochs = 10\n",
    "# ts = ToTensor()\n",
    "for it in tqdm(range(n_epochs)):\n",
    "  # zero the parameter gradients\n",
    "  for i_batch, sample_batched in enumerate(traffic_obj_train):\n",
    "    optimizer.zero_grad()\n",
    "    outputs = model(sample_batched['inputs'].to(device))\n",
    "    loss = criterion(outputs, sample_batched['outputs'].to(device))\n",
    "    if i_batch ==1:\n",
    "      print (loss)\n",
    "    losses.append(loss.item())\n",
    "    loss.backward()\n",
    "    optimizer.step()\n",
    "    \n",
    "\n",
    "  # for i_test,sample_test in enumerate(traffic_obj_test):\n",
    "  #     sample_test = ts(bs,window, horizon, sample_batched)\n",
    "  #     outputs = model(sample_test['inputs'].to(device))\n",
    "  #     test_loss = criterion(outputs, sample_test['outputs'].to(device))\n",
    "  #     test_losses.append(test_loss.item())\n",
    "\n",
    "  mean_loss.append(np.mean(losses))\n",
    "  # mean_test_loss.append(np.mean(test_losses))\n",
    "  if (it+1) % 1 == 0:\n",
    "    print(f'Epoch {it+1}/{n_epochs}, Training Loss: {np.mean(losses):.4f}')\n",
    "    # Testing Loss: {np.mean(test_losses):.4f}')"
   ]
  },
  {
   "cell_type": "code",
   "execution_count": 12,
   "metadata": {},
   "outputs": [
    {
     "data": {
      "text/plain": [
       "<function matplotlib.pyplot.legend(*args, **kwargs) -> 'Legend'>"
      ]
     },
     "execution_count": 12,
     "metadata": {},
     "output_type": "execute_result"
    },
    {
     "data": {
      "image/png": "[encoded data removed]",
      "text/plain": [
       "<Figure size 640x480 with 1 Axes>"
      ]
     },
     "metadata": {},
     "output_type": "display_data"
    }
   ],
   "source": [
    "plt.plot(mean_loss, 'k', label = 'training')\n",
    "plt.legend"
   ]
  },
  {
   "cell_type": "code",
   "execution_count": 15,
   "metadata": {},
   "outputs": [
    {
     "data": {
      "text/plain": [
       "[<matplotlib.lines.Line2D at 0x261f56243d0>]"
      ]
     },
     "execution_count": 15,
     "metadata": {},
     "output_type": "execute_result"
    },
    {
     "data": {
      "image/png": "[encoded data removed]",
      "text/plain": [
       "<Figure size 640x480 with 1 Axes>"
      ]
     },
     "metadata": {},
     "output_type": "display_data"
    }
   ],
   "source": [
    "plt.plot(losses[0:3000])"
   ]
  },
  {
   "cell_type": "code",
   "execution_count": 14,
   "metadata": {},
   "outputs": [],
   "source": [
    "torch.save(model.state_dict(), 'HW02LSTM10E.pt')"
   ]
  }
 ],
 "metadata": {
  "kernelspec": {
   "display_name": "Python 3",
   "language": "python",
   "name": "python3"
  },
  "language_info": {
   "codemirror_mode": {
    "name": "ipython",
    "version": 3
   },
   "file_extension": ".py",
   "mimetype": "text/x-python",
   "name": "python",
   "nbconvert_exporter": "python",
   "pygments_lexer": "ipython3",
   "version": "3.10.13"
  }
 },
 "nbformat": 4,
 "nbformat_minor": 2
}
